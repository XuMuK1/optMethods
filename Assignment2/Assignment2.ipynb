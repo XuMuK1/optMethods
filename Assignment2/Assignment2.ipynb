{
 "cells": [
  {
   "cell_type": "markdown",
   "metadata": {
    "collapsed": true
   },
   "source": [
    "# Assignment 2 (by Maksim Kaledin)\n",
    "\n",
    "## Excercise 1.4\n",
    "\n",
    "Consider the problem\n",
    "\n",
    "$$min \\quad 4x_1 + 5\\vert x_2 − 1\\vert$$\n",
    "$$s.t. \\quad 2\\vert x_1 \\vert + \\vert x_2 − 3 \\vert ≤ 5;$$\n",
    "\n",
    "and reformulate it as a linear programming problem.\n",
    "\n",
    "### Solution\n",
    "\n",
    "Let $z_2=x_2-1$ and $x_1=x_{1+}-x_{1-}$. We also can expand absolute values in constraints by switching from one constraint to four:\n",
    "\n",
    "$$min \\quad 4x_1 + 5\\vert z_2 \\vert$$\n",
    "$$s.t. \\quad 2x_1 + z_2  ≤ 7; \\quad 2x_1 - z_2  ≤ 3; \\quad -2x_1 + z_2  ≤ 7; \\quad -2x_1 - z_2  ≤ 3. $$\n",
    "\n",
    "Now we need to deal with $\\vert z_2 \\vert$. Consider new variable $\\epsilon_2$, assign $\\vert z_2 \\vert = \\epsilon_2$ in the goal, and add two more constraints:\n",
    "\n",
    "$$ \\epsilon_2 \\geq  z_2; \\epsilon_2 \\geq -z_2. $$\n",
    "\n",
    "Since the goal is positive with respect to $\\epsilon_2$, any optimal solution should assign $\\epsilon_2$ either to $z_2$ or $-z_2$, so indeed $\\epsilon_2 = \\vert z_2 \\vert$. To finalize the solution, we need to ensure that all variables are non-negative to correspond to classical LP. Assign $x_1=x_{1+}-x_{1-}, z_2=z_{2+}-z_{2-}$:\n",
    "\n",
    "$$min \\quad 4(x_{1+}-x_{1-})+5\\epsilon_2 ~ s.t.$$\n",
    "$$\\quad 2(x_{1+}-x_{1-})+(z_{2+}-z_{2-}) \\leq 7,$$\n",
    "$$\\quad 2(x_{1+}-x_{1-})-(z_{2+}-z_{2-}) \\leq 3,$$\n",
    "$$\\quad -2(x_{1+}-x_{1-})+(z_{2+}-z_{2-}) \\leq 7,$$\n",
    "$$\\quad -2(x_{1+}-x_{1-})-(z_{2+}-z_{2-}) \\leq 3,$$\n",
    "$$ \\epsilon_2 \\geq  z_2; \\epsilon_2 \\geq -z_2. $$\n",
    "$$\\quad x_{1+},x_{1-},z_{2+},z_{2-},\\epsilon_2 \\geq 0.$$\n",
    "\n",
    "The last condition $\\epsilon_2$ is derived from its definition. \n",
    "\n",
    "\n"
   ]
  },
  {
   "cell_type": "markdown",
   "metadata": {},
   "source": [
    "## Excercise 1.8 (Road Lighting)\n",
    "\n",
    "Consider a road divided into $n$ segments and illuminated by $m$ lamps. Let $p_j$ be\n",
    "the power of the $j$-th lamp. The illumination Ii of the $i$-th segment is assumed to be\n",
    "$\\sum_{j=1}^m a_{ij}p_j$, where aij are known coefficients. Let $I_i^∗$ be the desired illumination of\n",
    "road $i$.\n",
    "We are interested in choosing the lamp powers $p_j$ so that the illuminations $I_i$ are close\n",
    "to the desired illuminations $I_{i}^*$. Provide a reasonable linear programming formulation\n",
    "of this problem. Note that the wording of the problem is loose and there is more\n",
    "than one possible formulation.\n",
    "\n",
    "### Solution"
   ]
  },
  {
   "cell_type": "code",
   "execution_count": null,
   "metadata": {
    "collapsed": true
   },
   "outputs": [],
   "source": []
  }
 ],
 "metadata": {
  "anaconda-cloud": {},
  "kernelspec": {
   "display_name": "Python [conda root]",
   "language": "python",
   "name": "conda-root-py"
  },
  "language_info": {
   "codemirror_mode": {
    "name": "ipython",
    "version": 3
   },
   "file_extension": ".py",
   "mimetype": "text/x-python",
   "name": "python",
   "nbconvert_exporter": "python",
   "pygments_lexer": "ipython3",
   "version": "3.5.2"
  }
 },
 "nbformat": 4,
 "nbformat_minor": 1
}
