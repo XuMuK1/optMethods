{
 "cells": [
  {
   "cell_type": "code",
   "execution_count": 1,
   "metadata": {},
   "outputs": [],
   "source": [
    "#Preliminary imports\n",
    "import numpy as np\n",
    "import cvxpy as cv\n"
   ]
  },
  {
   "cell_type": "markdown",
   "metadata": {
    "collapsed": true
   },
   "source": [
    "# Assignment 2 (by Maksim Kaledin)\n",
    "\n",
    "## Excercise 1.4\n",
    "\n",
    "Consider the problem\n",
    "\n",
    "$$min \\quad 4x_1 + 5\\vert x_2 − 1\\vert$$\n",
    "$$s.t. \\quad 2\\vert x_1 \\vert + \\vert x_2 − 3 \\vert ≤ 5;$$\n",
    "\n",
    "and reformulate it as a linear programming problem.\n",
    "\n",
    "### Solution\n",
    "\n",
    "Let $z_2=x_2-1$ and $x_1=x_{1+}-x_{1-}$. We also can expand absolute values in constraints by switching from one constraint to four:\n",
    "\n",
    "$$min \\quad 4x_1 + 5\\vert z_2 \\vert$$\n",
    "$$s.t. \\quad 2x_1 + z_2  ≤ 7; \\quad 2x_1 - z_2  ≤ 3; \\quad -2x_1 + z_2  ≤ 7; \\quad -2x_1 - z_2  ≤ 3. $$\n",
    "\n",
    "Now we need to deal with $\\vert z_2 \\vert$. Consider new variable $\\epsilon_2$, assign $\\vert z_2 \\vert = \\epsilon_2$ in the goal, and add two more constraints:\n",
    "\n",
    "$$ \\epsilon_2 \\geq  z_2; \\epsilon_2 \\geq -z_2. $$\n",
    "\n",
    "Since the goal is positive with respect to $\\epsilon_2$, any optimal solution should assign $\\epsilon_2$ either to $z_2$ or $-z_2$, so indeed $\\epsilon_2 = \\vert z_2 \\vert$. To finalize the solution, we need to ensure that all variables are non-negative to correspond to classical LP. Assign $x_1=x_{1+}-x_{1-}, z_2=z_{2+}-z_{2-}$:\n",
    "\n",
    "$$min \\quad 4(x_{1+}-x_{1-})+5\\epsilon_2 ~ s.t.$$\n",
    "$$\\quad 2(x_{1+}-x_{1-})+(z_{2+}-z_{2-}) \\leq 7,$$\n",
    "$$\\quad 2(x_{1+}-x_{1-})-(z_{2+}-z_{2-}) \\leq 3,$$\n",
    "$$\\quad -2(x_{1+}-x_{1-})+(z_{2+}-z_{2-}) \\leq 7,$$\n",
    "$$\\quad -2(x_{1+}-x_{1-})-(z_{2+}-z_{2-}) \\leq 3,$$\n",
    "$$ \\epsilon_2 \\geq  z_2; \\epsilon_2 \\geq -z_2. $$\n",
    "$$\\quad x_{1+},x_{1-},z_{2+},z_{2-},\\epsilon_2 \\geq 0.$$\n",
    "\n",
    "The last condition $\\epsilon_2$ is derived from its definition. \n",
    "\n",
    "\n"
   ]
  },
  {
   "cell_type": "code",
   "execution_count": 2,
   "metadata": {},
   "outputs": [
    {
     "name": "stdout",
     "output_type": "stream",
     "text": [
      "status: optimal\n",
      "optimal value -5.9999999963787936\n",
      "optimal var [[  7.74471594e-01]\n",
      " [  2.27447159e+00]\n",
      " [  1.52934485e+00]\n",
      " [  1.52934485e+00]\n",
      " [  1.26464510e-09]]\n"
     ]
    }
   ],
   "source": [
    "#CVX formulation goes here\n",
    "#varNames=['x1p','x1m','z2p','z2m','ep2'] #in order not to use quite frequent variable names like x1p\n",
    "vars14 = cv.Variable(5)\n",
    "\n",
    "A14 = np.matrix([[2,-2,1,-1,0],\n",
    "                 [2,-2,-1,1,0],\n",
    "                 [-2,2,1,-1,0],\n",
    "                 [-2,2,-1,1,0],\n",
    "                 [0,0,1,-1,-1],\n",
    "                 [0,0,-1,1,-1]])\n",
    "\n",
    "b=np.array([7,3,7,3,0,0])\n",
    "\n",
    "constraints14 = [ A14*vars14 <= b,\n",
    "                 vars14 >= np.zeros(5)]\n",
    "c14 = np.array([4,-4,0,0,5])\n",
    "obj14 = cv.Minimize(c14*vars14)\n",
    "\n",
    "problem14 = cv.Problem(obj14, constraints14)\n",
    "problem14.solve()\n",
    "print (\"status:\", problem14.status)\n",
    "print (\"optimal value\", problem14.value)\n",
    "print (\"optimal var\", vars14.value)\n",
    "    \n"
   ]
  },
  {
   "cell_type": "markdown",
   "metadata": {},
   "source": [
    "## Excercise 1.8 (Road Lighting)\n",
    "\n",
    "Consider a road divided into $n$ segments and illuminated by $m$ lamps. Let $p_j$ be\n",
    "the power of the $j$-th lamp. The illumination Ii of the $i$-th segment is assumed to be\n",
    "$\\sum_{j=1}^m a_{ij}p_j$, where aij are known coefficients. Let $I_i^∗$ be the desired illumination of\n",
    "road $i$.\n",
    "We are interested in choosing the lamp powers $p_j$ so that the illuminations $I_i$ are close\n",
    "to the desired illuminations $I_{i}^*$. Provide a reasonable linear programming formulation\n",
    "of this problem. Note that the wording of the problem is loose and there is more\n",
    "than one possible formulation.\n",
    "\n",
    "### Solution\n",
    "\n",
    "Let $n$ be the number of segments and $m$ be the number of lights available. For now, suppose we somehow obtained positive real matrix $A=(a_{ij})$ of light emissions and electricity is cheap (which is the truth, if, for example, location is powered by hydroenergy plant). So one can formulate the problem of minimizing unsatisfaction from the lighting:\n",
    "$$\n",
    "\\text{min}_{p}~ \\text{max}_{i \\in 1,..,n} \\left| \\sum_{j=1}^m a_{ij}p_j-I_i^*\\right| \\quad s.t. ~ p_j \\in [0,P],\n",
    "$$\n",
    "where $P$ is the maximum power which lights can produce. We could easily extend it to more general case if we suppose that all lights have different $P_j$, but it is a redundant complexity. Note that we do not use the average difference, or sum of absolute values as the measure of unsatisfaction. Since we are not interested in cases, when there are very well-illuminated areas and very poor-illuminated ones, the chosen measure looks reasonable: the goal is to minimize all unsatisfactions as much as possible.\n",
    "\n",
    "Firstly, randomly generate matrix $A$, $P$, and $I_i^*$. To avoid non-realistic results, we should choose $P$ considerably higher than $I_i^*$."
   ]
  },
  {
   "cell_type": "code",
   "execution_count": 3,
   "metadata": {},
   "outputs": [],
   "source": [
    "m=5 #number of lights\n",
    "n=10 #number of segments\n",
    "P=2\n",
    "\n",
    "#constraints for random generator\n",
    "maxInfluence=2\n",
    "minIlluminance=4\n",
    "maxIlluminance=6\n",
    "\n",
    "\n",
    "A18=np.random.uniform(0,maxInfluence,(n,m))\n",
    "A18=np.matrix(A18)\n",
    "Idesired=np.random.uniform(minIlluminance,maxIlluminance,(n,1))"
   ]
  },
  {
   "cell_type": "markdown",
   "metadata": {},
   "source": [
    "In order to process the problem as LP we need to translate it to LP. Consider new variable $\\epsilon$ and the following problem:\n",
    "\n",
    "$$\n",
    "\\text{min} ~\\epsilon\n",
    "$$\n",
    "$$\n",
    "s.t. \\quad \\forall i ~ \\epsilon \\geq \\sum_{j=1}^m a_{ij}p_j - I_i^*,\n",
    "$$\n",
    "$$\n",
    "\\quad \\quad \\epsilon \\geq -\\sum_{j=1}^m a_{ij}p_j + I_i^*.\n",
    "$$\n",
    "$$\n",
    "\\quad \\quad p_j \\in [0,P]\n",
    "$$\n",
    "Since we minimize with respect to $\\epsilon$, optimality of the solution iimplies \n",
    "\n",
    "$$\\epsilon = \\text{max}_{i \\in 1,..,n} \\left| \\sum_{j=1}^m a_{ij}p_j-I_i^*\\right|.$$"
   ]
  },
  {
   "cell_type": "code",
   "execution_count": 4,
   "metadata": {},
   "outputs": [
    {
     "name": "stdout",
     "output_type": "stream",
     "text": [
      "status: optimal\n",
      "optimal value 2.1860013110592353\n",
      "optimal var [[  2.00000000e+00]\n",
      " [  4.50953014e-11]\n",
      " [  5.22957712e-01]\n",
      " [  7.27819783e-01]\n",
      " [  2.00000000e+00]\n",
      " [  2.18600131e+00]]\n"
     ]
    }
   ],
   "source": [
    "A18_ext = np.block([[A18,-np.ones((n,1))],\n",
    "                    [-A18,-np.ones((n,1))]]) #nontrivial constraints\n",
    "#block is new in version 1.13.0!!!!\n",
    "\n",
    "vars18 = cv.Variable(m+1) #powers + epsilon\n",
    "constraints18 = [A18_ext*vars18 <= np.block([[Idesired],[-Idesired]]),\n",
    "                 vars18 >= np.zeros((m+1,1)),\n",
    "                 vars18[0:m]<= np.ones(m)*P] #epsilon>=0 by definition, but it is much simpler form to write\n",
    "\n",
    "obj18 = np.zeros(m+1)\n",
    "obj18[-1]=1# give cost 1 to epsilon\n",
    "obj18 = cv.Minimize(obj18*vars18)\n",
    "problem18 = cv.Problem(obj18, constraints18)\n",
    "problem18.solve()\n",
    "\n",
    "print (\"status:\", problem18.status)\n",
    "print (\"optimal value\", problem18.value)\n",
    "print (\"optimal var\", vars18.value)"
   ]
  },
  {
   "cell_type": "markdown",
   "metadata": {
    "collapsed": true
   },
   "source": [
    "Now we need to verify if the solution is adequate for our problem. In order to do so, we need to define properly matrix $A$. According to [this](https://ru.wikipedia.org/wiki/%D0%9E%D1%81%D0%B2%D0%B5%D1%89%D1%91%D0%BD%D0%BD%D0%BE%D1%81%D1%82%D1%8C), there is an appropriate physical variable called illuminance. We could approximate the illuminance (from one light) of the road segment as the average over it:\n",
    "$$\n",
    "a_{ij}=\\frac{1}{\\Vert x_{i+1}-x_{i}\\Vert_2} \\int_0^1 \\frac{I_j r_0(t)}{(r_0^2(t)+h^2)^{5/2}}dt,\n",
    "$$\n",
    "where $x_i$ is the $i$-th waypoint, $r_0(t)=\\Vert x_i+t(x_{i+1}-x_i)\\Vert_2$ is the distance from the light to point between $x_i$ and $x_{i+1}$, parametrized with $t$, $h$ is the height of the light, $I_j$ is the luminous intensity of the light $j$ (see [this](https://en.wikipedia.org/wiki/Luminous_intensity)). The integral could be easily computed with scipy numerical integration.\n",
    "\n",
    "The random generator is not the aim of this problem, so we generate quite obvious route with lights in a deterministic manner.\n",
    "\n",
    "\n"
   ]
  },
  {
   "cell_type": "code",
   "execution_count": 5,
   "metadata": {},
   "outputs": [
    {
     "name": "stdout",
     "output_type": "stream",
     "text": [
      "[[ 0.1   0.3   0.4   0.57  0.4   0.6 ]\n",
      " [ 0.1   0.25  0.12  0.2   0.5   0.5 ]]\n",
      "[[ 0.22  0.3   0.5   0.48  0.55]\n",
      " [ 0.3   0.15  0.2   0.27  0.55]]\n"
     ]
    },
    {
     "data": {
      "image/png": "[encoded data removed]",
      "text/plain": [
       "<matplotlib.figure.Figure at 0x3d13689550>"
      ]
     },
     "metadata": {},
     "output_type": "display_data"
    }
   ],
   "source": [
    "import matplotlib.pyplot as plt\n",
    "%matplotlib inline\n",
    "\n",
    "scaling=0.1\n",
    "\n",
    "waypoints_x = np.array([1,3,4,5.7,4,6])\n",
    "waypoints_y = np.array([1,2.5,1.2,2,5,5])\n",
    "waypoints = np.block([[scaling*waypoints_x],[scaling*waypoints_y]])\n",
    "print(waypoints)\n",
    "\n",
    "lights_x=np.array([2.2,3,5,4.8,5.5])\n",
    "lights_y=np.array([3,1.5,2,2.7,5.5])\n",
    "lights = np.block([[scaling*lights_x],[scaling*lights_y]])\n",
    "print(lights)\n",
    "\n",
    "f,ax = plt.subplots(figsize=(8,4))\n",
    "\n",
    "ax.plot(waypoints_x,waypoints_y)\n",
    "ax.scatter(lights_x,lights_y,s=55)\n",
    "\n",
    "Idesired=np.zeros((5,1))\n",
    "Idesired[0]=2\n",
    "Idesired[1]=4\n",
    "Idesired[2]=3\n",
    "Idesired[3]=1\n",
    "Idesired[4]=4\n"
   ]
  },
  {
   "cell_type": "markdown",
   "metadata": {},
   "source": [
    "Here circles represent the lights and the road is drawn with segments. Now compute matrix $A$."
   ]
  },
  {
   "cell_type": "code",
   "execution_count": 6,
   "metadata": {},
   "outputs": [
    {
     "name": "stdout",
     "output_type": "stream",
     "text": [
      "0.0331116994544 0.20000000000000007\n",
      "0.0386524897902 0.20000000000000007\n",
      "0.0293998672908 0.20000000000000007\n",
      "0.0230228300716 0.20000000000000007\n",
      "0.00828725553778 0.20000000000000007\n",
      "[[ 0.10291338  0.04532058  0.09261165  0.09619647  0.24243032]\n",
      " [ 0.15511892  0.09633051  0.03262802  0.06276997  0.20170652]\n",
      " [ 0.07983153  0.08059281  0.04533013  0.03192124  0.06293811]\n",
      " [ 0.1655585   0.19326245  0.14699934  0.11511415  0.04143628]\n",
      " [ 0.05379335  0.04661337  0.11672676  0.11404431  0.19199303]]\n"
     ]
    }
   ],
   "source": [
    "import scipy as sp\n",
    "\n",
    "h=4 # 4 meters\n",
    "\n",
    "A18_2 = np.zeros((len(waypoints[0])-1,len(lights[0])))\n",
    "\n",
    "for i in np.arange(0,len(waypoints[0])-1):\n",
    "    for j in np.arange(len(lights[0])):\n",
    "        trange = np.array(np.linspace(0,1,51))\n",
    "        \n",
    "        Ft = np.zeros(len(trange))\n",
    "        for k in np.arange(len(trange)):\n",
    "            r0=sp.linalg.norm(waypoints[:,i]+trange[k]*(waypoints[:,i+1]-waypoints[:,i])-lights[:,j])\n",
    "            Ft[k]=np.abs(r0/((np.sqrt(r0**2+h**2))**5))*1e2 #abs for handling direction issues, 1e3 for scaling\n",
    "        if(i==4):\n",
    "            print(sp.integrate.simps(Ft,trange),sp.linalg.norm(waypoints[:,i+1]-waypoints[:,i]))\n",
    "        A18_2[i-1,j]=1/sp.linalg.norm(waypoints[:,i+1]-waypoints[:,i])*sp.integrate.simps(Ft,trange)\n",
    "        #1e3 just for some scaling reasons\n",
    "        \n",
    "\n",
    "print(A18_2)"
   ]
  },
  {
   "cell_type": "code",
   "execution_count": 7,
   "metadata": {},
   "outputs": [
    {
     "name": "stdout",
     "output_type": "stream",
     "text": [
      "5 5\n",
      "[[ 2.]\n",
      " [ 4.]\n",
      " [ 3.]\n",
      " [ 1.]\n",
      " [ 4.]]\n",
      "status: optimal\n",
      "optimal value 1.5408916799295316\n",
      "optimal var [[  8.00000000e+00]\n",
      " [  2.65021778e+00]\n",
      " [  4.84165673e-08]\n",
      " [  3.23805453e+00]\n",
      " [  8.00000000e+00]\n",
      " [  1.54089168e+00]]\n"
     ]
    }
   ],
   "source": [
    "P=8#maximum power\n",
    "\n",
    "(n,m)=A18_2.shape\n",
    "print(n,m)\n",
    "print(Idesired)\n",
    "A18_2ext = np.block([[A18_2,-np.ones((n,1))],\n",
    "                    [-A18_2,-np.ones((n,1))]]) #nontrivial constraints\n",
    "#block is new in version 1.13.0!!!!\n",
    "\n",
    "vars18 = cv.Variable(m+1) #powers + epsilon\n",
    "constraints18 = [A18_2ext*vars18 <= np.block([[Idesired],[-Idesired]]),\n",
    "                 vars18 >= np.zeros((m+1,1)),\n",
    "                 vars18[0:m]<= np.ones(m)*P] #epsilon>=0 by definition, but it is much simpler form to write\n",
    "\n",
    "obj18 = np.zeros(m+1)\n",
    "obj18[-1]=1# give cost 1 to epsilon\n",
    "obj18 = cv.Minimize(obj18*vars18)\n",
    "problem18 = cv.Problem(obj18, constraints18)\n",
    "problem18.solve()\n",
    "\n",
    "print (\"status:\", problem18.status)\n",
    "print (\"optimal value\", problem18.value)\n",
    "print (\"optimal var\", vars18.value)"
   ]
  },
  {
   "cell_type": "code",
   "execution_count": 8,
   "metadata": {},
   "outputs": [
    {
     "name": "stdout",
     "output_type": "stream",
     "text": [
      "Got [[ 3.1943484 ]\n",
      " [ 3.31315295]\n",
      " [ 1.45910832]\n",
      " [ 2.54089168]\n",
      " [ 2.45910832]]\n",
      "Desired [[ 2.]\n",
      " [ 4.]\n",
      " [ 3.]\n",
      " [ 1.]\n",
      " [ 4.]]\n"
     ]
    },
    {
     "data": {
      "text/plain": [
       "<matplotlib.collections.PathCollection at 0x3d172f0588>"
      ]
     },
     "execution_count": 8,
     "metadata": {},
     "output_type": "execute_result"
    },
    {
     "data": {
      "image/png": "[encoded data removed]",
      "text/plain": [
       "<matplotlib.figure.Figure at 0x3d13625908>"
      ]
     },
     "metadata": {},
     "output_type": "display_data"
    }
   ],
   "source": [
    "powers = np.array(vars18.value[:-1])\n",
    "print(\"Got\",A18_2.dot(powers))\n",
    "print(\"Desired\",Idesired)\n",
    "f,ax = plt.subplots(figsize=(8,4))\n",
    "\n",
    "ax.plot(waypoints_x,waypoints_y)\n",
    "ax.scatter(lights_x,lights_y,s=powers*150)\n",
    "\n"
   ]
  },
  {
   "cell_type": "markdown",
   "metadata": {},
   "source": [
    "This chart represents the optimal solution. The radius of circles is the power assigned to corresponding light."
   ]
  },
  {
   "cell_type": "markdown",
   "metadata": {},
   "source": [
    "## Excercise 1.5\n",
    "\n",
    "### Solution\n",
    "\n",
    "Consider for shorter expressions that all variables are non-negative (it follows from the statement of the problem).\n",
    "\n",
    "#### 1\n",
    "\n",
    "It is easy since we know the data.\n",
    "\n",
    "$$\n",
    "\\text{max}_{x_1,x_2} (9-1.2)x_1+(8-0.9)x_2 \\quad s.t. \n",
    "$$\n",
    "$$\n",
    "\\frac{x_1}{4}+\\frac{x_2}{3} \\leq 90\n",
    "$$\n",
    "$$\n",
    "\\frac{x_1}{8}+\\frac{x_2}{3} \\leq 80\n",
    "$$\n"
   ]
  },
  {
   "cell_type": "code",
   "execution_count": 9,
   "metadata": {},
   "outputs": [
    {
     "name": "stdout",
     "output_type": "stream",
     "text": [
      "status: optimal\n",
      "optimal value 2807.9999882490756\n",
      "optimal var [[  3.59999996e+02]\n",
      " [  3.26239653e-06]]\n"
     ]
    }
   ],
   "source": [
    "vars15_1 = cv.Variable(2)\n",
    "A=np.matrix(np.zeros((2,2)))\n",
    "A[0,0]=1/4\n",
    "A[0,1]=1/3\n",
    "A[1,0]=1/8\n",
    "A[1,1]=1/3\n",
    "\n",
    "b=np.array([90,80])\n",
    "constraints15_1 = [A*vars15_1 <= b,\n",
    "                   vars15_1 >=0]\n",
    "obj15_1 = cv.Maximize(np.array([7.8,7.1])*vars15_1)\n",
    "problem15_1 = cv.Problem(obj15_1,constraints15_1)\n",
    "problem15_1.solve()\n",
    "\n",
    "print (\"status:\", problem15_1.status)\n",
    "print (\"optimal value\", problem15_1.value)\n",
    "print (\"optimal var\", vars15_1.value)"
   ]
  },
  {
   "cell_type": "markdown",
   "metadata": {},
   "source": [
    "#### 2\n",
    "\n",
    "##### a\n",
    "\n",
    "Consider new variables $y_1$, $y_2$ which represent the need for overtime workhours. We will penalize the goal for each overtime hour and this will be the needed LP. Note also that these variables demand a new constraint (the second one) and must be included in testing constraint also (despite we have additional assembly hours, the thesting ones are the same).\n",
    "\n",
    "$$\n",
    "\\text{max}_{x_1,x_2} 7.8x_1+7.1x_2 - 7*(\\frac{y_1}{4}+\\frac{y_2}{3})+7.8y_1+7.1y_2 \\quad s.t. \n",
    "$$\n",
    "$$\n",
    "\\frac{x_1}{4}+\\frac{x_2}{3} \\leq 90\n",
    "$$\n",
    "$$\n",
    "\\frac{y_1}{4}+\\frac{y_2}{3} \\leq 50\n",
    "$$\n",
    "$$\n",
    "\\frac{x_1+y_1}{8}+\\frac{x_2+y_2}{3} \\leq 80\n",
    "$$"
   ]
  },
  {
   "cell_type": "code",
   "execution_count": 11,
   "metadata": {},
   "outputs": [
    {
     "name": "stdout",
     "output_type": "stream",
     "text": [
      "status: optimal\n",
      "optimal value 4017.999985130508\n",
      "optimal var [[  3.59999999e+02]\n",
      " [  3.95311072e-07]\n",
      " [  1.99999993e+02]\n",
      " [  6.84417703e-06]]\n"
     ]
    }
   ],
   "source": [
    "vars15_2a = cv.Variable(4)\n",
    "A=np.matrix(np.zeros((3,4)))\n",
    "A[0,0]=1/4\n",
    "A[0,1]=1/3\n",
    "A[1,0]=1/8\n",
    "A[1,1]=1/3\n",
    "A[1,2]=1/8#staging y_1,y_2 for testing\n",
    "A[1,3]=1/3\n",
    "#new constraint!\n",
    "A[2,2]=1/4\n",
    "A[2,3]=1/4\n",
    "\n",
    "b=np.array([90,80,50])\n",
    "constraints15_2a = [A*vars15_2a <= b,\n",
    "                   vars15_2a >=0]\n",
    "obj15_2a = cv.Maximize(np.array([7.8,7.1,-7/4+7.8,-7/3+7.1])*vars15_2a)\n",
    "problem15_2a = cv.Problem(obj15_2a,constraints15_2a)\n",
    "problem15_2a.solve()\n",
    "\n",
    "print (\"status:\", problem15_2a.status)\n",
    "print (\"optimal value\", problem15_2a.value)\n",
    "print (\"optimal var\", vars15_2a.value)"
   ]
  },
  {
   "cell_type": "markdown",
   "metadata": {},
   "source": [
    "\n",
    "##### b\n",
    "\n",
    "It turned out to be a piecewise-linear goal function, however I have not succeeded in transofrming the problem to LP. So consider another solution, let $\\Pi_1$ be a program\n",
    "\n",
    "$$\n",
    "\\text{max}_{x_1,x_2} 7.8x_1+7.1x_2 \\quad s.t. \n",
    "$$\n",
    "$$\n",
    "\\frac{x_1}{4}+\\frac{x_2}{3} \\leq 90,\n",
    "$$\n",
    "$$\n",
    "\\frac{x_1}{8}+\\frac{x_2}{3} \\leq 80,\n",
    "$$\n",
    "$$\n",
    "1.2x_1 + 0.9x_2 \\leq 300,\n",
    "$$\n",
    "and $\\Pi_2$ be\n",
    "$$\n",
    "\\text{max}_{x_1,x_2} (9-1.08)x_1+(8-0.81)x_2 - 300 \\quad s.t. \n",
    "$$\n",
    "$$\n",
    "\\frac{x_1}{4}+\\frac{x_2}{3} \\leq 90,\n",
    "$$\n",
    "$$\n",
    "\\frac{x_1}{8}+\\frac{x_2}{3} \\leq 80,\n",
    "$$\n",
    "$$\n",
    "1.2x_1 + 0.9x_2 \\geq 300.\n",
    "$$\n",
    "Note that $\\Pi_1$ represents the solution where we do not agree on a discount while $\\Pi_2$ is about agreeing on a discount but demanding to spend $\\$300$ for sure.\n",
    "\n",
    "We can solve $\\Pi_1,\\Pi_2$ and find out if we need this special offer."
   ]
  },
  {
   "cell_type": "code",
   "execution_count": 13,
   "metadata": {},
   "outputs": [
    {
     "name": "stdout",
     "output_type": "stream",
     "text": [
      "status: optimal\n",
      "optimal value 2185.7142853085256\n",
      "optimal var [[ 108.57142868]\n",
      " [ 188.57142839]]\n"
     ]
    }
   ],
   "source": [
    "vars15_2b = cv.Variable(2)\n",
    "A=np.matrix(np.zeros((3,2)))\n",
    "A[0,0]=1/4\n",
    "A[0,1]=1/3\n",
    "A[1,0]=1/8\n",
    "A[1,1]=1/3\n",
    "#new constraint!\n",
    "A[2,0]=1.2\n",
    "A[2,1]=0.9\n",
    "\n",
    "b=np.array([90,80,300])\n",
    "constraints15_2b = [A*vars15_2b <= b,\n",
    "                   vars15_2b >=0]\n",
    "obj15_2b = cv.Maximize(np.array([7.8,7.1])*vars15_2b)\n",
    "problem15_2b = cv.Problem(obj15_2b,constraints15_2b)\n",
    "problem15_2b.solve()\n",
    "\n",
    "print (\"status:\", problem15_2b.status)\n",
    "print (\"optimal value\", problem15_2b.value)\n",
    "print (\"optimal var\", vars15_2b.value)"
   ]
  },
  {
   "cell_type": "code",
   "execution_count": 15,
   "metadata": {},
   "outputs": [
    {
     "name": "stdout",
     "output_type": "stream",
     "text": [
      "status: optimal\n",
      "optimal value 2507.9999988737536\n",
      "optimal var [[  3.59999999e+02]\n",
      " [  4.87173154e-07]]\n"
     ]
    }
   ],
   "source": [
    "vars15_2b_2 = cv.Variable(2)\n",
    "A=np.matrix(np.zeros((3,2)))\n",
    "A[0,0]=1/4\n",
    "A[0,1]=1/3\n",
    "A[1,0]=1/8\n",
    "A[1,1]=1/3\n",
    "#new constraint!\n",
    "A[2,0]=-1.2\n",
    "A[2,1]=-0.9\n",
    "\n",
    "b=np.array([90,80,-300])\n",
    "constraints15_2b_2 = [A*vars15_2b_2 <= b,\n",
    "                   vars15_2b_2 >=0]\n",
    "obj15_2b_2 = cv.Maximize(np.array([7.8,7.1])*vars15_2b_2-300)\n",
    "problem15_2b_2 = cv.Problem(obj15_2b_2,constraints15_2b_2)\n",
    "problem15_2b_2.solve()\n",
    "\n",
    "print (\"status:\", problem15_2b_2.status)\n",
    "print (\"optimal value\", problem15_2b_2.value)\n",
    "print (\"optimal var\", vars15_2b_2.value)"
   ]
  },
  {
   "cell_type": "markdown",
   "metadata": {},
   "source": [
    "According to these two solutions, it is better to agree on a discount, because it allows to have greater revenue."
   ]
  },
  {
   "cell_type": "markdown",
   "metadata": {},
   "source": [
    "## Excercise 3.12"
   ]
  },
  {
   "cell_type": "code",
   "execution_count": null,
   "metadata": {},
   "outputs": [],
   "source": [
    "# I will send it later"
   ]
  }
 ],
 "metadata": {
  "anaconda-cloud": {},
  "kernelspec": {
   "display_name": "Python [Root]",
   "language": "python",
   "name": "Python [Root]"
  },
  "language_info": {
   "codemirror_mode": {
    "name": "ipython",
    "version": 3
   },
   "file_extension": ".py",
   "mimetype": "text/x-python",
   "name": "python",
   "nbconvert_exporter": "python",
   "pygments_lexer": "ipython3",
   "version": "3.5.2"
  }
 },
 "nbformat": 4,
 "nbformat_minor": 1
}
