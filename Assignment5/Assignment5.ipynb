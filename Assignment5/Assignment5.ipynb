{
 "cells": [
  {
   "cell_type": "markdown",
   "metadata": {},
   "source": [
    "# Assignment 5, by Maksim Kaledin\n",
    "\n",
    "This is a jupyter part of the report.\n",
    "\n",
    "## Problem 7\n",
    "\n",
    "First let us formulate the dual problem:\n",
    "\n",
    "$$\\begin{split}\n",
    "& \\max_\\lambda \\inf_x \\left( 2x_1^2+2x_2^2-x_1x_2 +\\lambda_1 (1-2x_1-3x_2)+\\lambda_2(1-5x_1-4x_2)\\right)\\\\\n",
    "& s.t. \\lambda \\geq 0\n",
    "\\end{split}.$$\n",
    "\n",
    "KKT conditions for the primal problem are\n",
    "\n",
    "* (stationarity conditions) $\\nabla_x L(x,\\lambda)=0$\n",
    "$$\n",
    "\\begin{split}\n",
    "    &4x_1-x_2-2\\lambda_1-5\\lambda_2=0,\\\\\n",
    "    &4x_2-x_1-3\\lambda_1-4\\lambda_2=0;\n",
    "\\end{split}\n",
    "$$\n",
    "* (feasibility conditions), these are constraints from initial primal problem;\n",
    "* (complementary slackness conditions)\n",
    "$$\n",
    "\\begin{split}\n",
    "    &\\lambda_1(1-2x_1-3x_2)=0,\\\\\n",
    "    &\\lambda_2(1-5x_1-4x_2)=0.\n",
    "\\end{split}\n",
    "$$\n",
    "\n",
    "In order to put the dual problem into CVX we also need to reformulate it to optimize a convex function:\n",
    "\n",
    "$$\\begin{split}\n",
    "& \\min_\\lambda -\\max_x \\left[ -\\left( 2x_1^2+2x_2^2-x_1x_2 +\\lambda_1 (1-2x_1-3x_2)+\\lambda_2(1-5x_1-4x_2)\\right)\\right]\\\\\n",
    "& s.t. \\lambda \\geq 0\n",
    "\\end{split}.$$"
   ]
  },
  {
   "cell_type": "code",
   "execution_count": null,
   "metadata": {
    "collapsed": true
   },
   "outputs": [],
   "source": []
  },
  {
   "cell_type": "markdown",
   "metadata": {},
   "source": [
    "## Problem 1\n",
    "\n",
    "To handle censored data we can exploit the known information about lower bound: let us demand that predicted values for censored observations are bounded from below with $D$. The corresponding optimization problem is\n",
    "$$\n",
    "\\begin{split}\n",
    "&\\min_{c^T} \\sum_{i=1}^{M} (c^Tx_i-y_i)^2,\\\\\n",
    "&s.t. \\quad c^Tx_i>D \\quad \\text{for $i>M$},\n",
    "\\end{split}\n",
    "$$\n",
    "where $M$ is amount of known $y_i$, $x_i$ are input data vectors. "
   ]
  },
  {
   "cell_type": "code",
   "execution_count": 13,
   "metadata": {
    "collapsed": true
   },
   "outputs": [],
   "source": [
    "import numpy as np #necessary imports\n",
    "import cvxpy as cv\n",
    "import matplotlib.pyplot as plt\n",
    "%matplotlib inline"
   ]
  },
  {
   "cell_type": "code",
   "execution_count": 30,
   "metadata": {
    "collapsed": false
   },
   "outputs": [
    {
     "name": "stdout",
     "output_type": "stream",
     "text": [
      "(1,)\n"
     ]
    }
   ],
   "source": [
    "#Data generation\n",
    "n=1\n",
    "M=25\n",
    "K=100\n",
    "\n",
    "np.random.seed(1)\n",
    "c_true = np.random.randn(n)\n",
    "X=np.random.randn(n,K)\n",
    "y=np.dot(X.T, c_true)+0.1*np.sqrt(n)*np.random.randn(K)\n",
    "print(c_true.shape)\n",
    "\n",
    "#Reorder\n",
    "sort_ind=np.argsort(y)\n",
    "X=X[:, sort_ind]\n",
    "y=y[sort_ind[:(M+1)]]\n",
    "D=(y[M-1]+y[M])/2\n",
    "y=y[:M]"
   ]
  },
  {
   "cell_type": "code",
   "execution_count": 31,
   "metadata": {
    "collapsed": false
   },
   "outputs": [
    {
     "name": "stdout",
     "output_type": "stream",
     "text": [
      "optimal\n",
      "0.9986395694109287\n",
      "1.46892881929\n"
     ]
    }
   ],
   "source": [
    "c_hat = cv.Variable(X.shape[0])\n",
    "\n",
    "censSq_constr = [X[:,M:].T*c_hat >= D*np.ones((K-M,1))]\n",
    "censSq_problem = cv.Problem(cv.Minimize(cv.norm(X[:,:M].T*c_hat-y)**2),censSq_constr)\n",
    "\n",
    "censSq_problem.solve()\n",
    "\n",
    "print(censSq_problem.status)\n",
    "print(censSq_problem.value)\n",
    "print(c_hat.value)"
   ]
  },
  {
   "cell_type": "markdown",
   "metadata": {},
   "source": [
    "We calculated some coefficients, let us check the relative errors and compare it with usual least squares. Compute $c_{ls}$ first."
   ]
  },
  {
   "cell_type": "code",
   "execution_count": 32,
   "metadata": {
    "collapsed": false
   },
   "outputs": [
    {
     "name": "stdout",
     "output_type": "stream",
     "text": [
      "optimal\n",
      "0.1847662623565624\n",
      "1.62799999169\n"
     ]
    }
   ],
   "source": [
    "c_hat_ls = cv.Variable(X.shape[0])\n",
    "\n",
    "#no constraints\n",
    "censSq_ls_problem = cv.Problem(cv.Minimize(cv.norm(X[:,:M].T*c_hat_ls-y)**2),[])\n",
    "\n",
    "censSq_ls_problem.solve()\n",
    "\n",
    "print(censSq_ls_problem.status)\n",
    "print(censSq_ls_problem.value)\n",
    "print(c_hat_ls.value)"
   ]
  },
  {
   "cell_type": "markdown",
   "metadata": {},
   "source": [
    "Check relative errors."
   ]
  },
  {
   "cell_type": "code",
   "execution_count": 34,
   "metadata": {
    "collapsed": false
   },
   "outputs": [
    {
     "name": "stdout",
     "output_type": "stream",
     "text": [
      "0.0956794951707\n",
      "0.00224990824401\n"
     ]
    }
   ],
   "source": [
    "print(np.linalg.norm(c_hat.value-c_true,2)/np.linalg.norm(c_true,2))\n",
    "print(np.linalg.norm(c_hat_ls.value-c_true,2)/np.linalg.norm(c_true,2))"
   ]
  },
  {
   "cell_type": "code",
   "execution_count": null,
   "metadata": {
    "collapsed": true
   },
   "outputs": [],
   "source": [
    "f, ax = plt.subplots(figsize=(5,5))\n",
    "\n",
    "axp.sca()"
   ]
  },
  {
   "cell_type": "markdown",
   "metadata": {},
   "source": [
    "## Problem 2\n",
    "\n",
    "Denote by $t_i$ the travel time on a segment $i$, $i\\in{0,..,n}$ ($t$ is a vector of $t_i$), let $n+1$ be a number of waypoints enumareted from $0$, $d_i$ be the length of $i$-th segment, $s_{min}^i,s_{max}^i$ and $T^{i}_{min},T^i_{max}$ be the speed and schedule constraints described in the problem. The corresponding optimization problem is\n",
    "\n",
    "$$\n",
    "\\begin{split}\n",
    "&\\min_{t} \\sum_{i=0}^n \\Phi\\left( \\frac{d_i}{t_i}\\right),\\\\\n",
    "& s.t. \\quad \\forall i \\quad {t_i} \\geq \\frac{d_i}{s_{max}^i},~ {t_i} \\leq \\frac{d_i}{s_{min}^i},\\\\\n",
    "& \\quad \\forall i \\sum_{j=0}^i t_j \\leq T_{max}^i, ~ \\sum_{j=0}^i t_j \\geq T_{min}^i,\\\\\n",
    "& \\quad \\forall i ~ t_i \\geq 0.\n",
    "\\end{split}\n",
    "$$"
   ]
  },
  {
   "cell_type": "code",
   "execution_count": 36,
   "metadata": {
    "collapsed": true
   },
   "outputs": [],
   "source": [
    "import numpy as np #necessary imports\n",
    "import cvxpy as cv\n",
    "import matplotlib.pyplot as plt\n",
    "%matplotlib inline\n",
    "\n",
    "import scipy.io as sio "
   ]
  },
  {
   "cell_type": "code",
   "execution_count": 91,
   "metadata": {
    "collapsed": false
   },
   "outputs": [
    {
     "name": "stdout",
     "output_type": "stream",
     "text": [
      "(100,)\n",
      "100\n",
      "(100,)\n"
     ]
    }
   ],
   "source": [
    "\n",
    "\n",
    "mat_contents = sio.loadmat('veh_sched_data.mat')\n",
    "\n",
    "a = mat_contents['a'][0,0]\n",
    "b = mat_contents['b'][0,0]\n",
    "c = mat_contents['c'][0,0]\n",
    "d = mat_contents['d'].squeeze()\n",
    "n = mat_contents['n'][0,0]\n",
    "s_min = mat_contents['smin'].squeeze()\n",
    "s_max = mat_contents['smax'].squeeze()\n",
    "tau_min = mat_contents['tau_min'].squeeze()\n",
    "tau_max = mat_contents['tau_max'].squeeze()\n",
    "print(tau_min.shape)\n",
    "print(n)\n",
    "print(d.shape)"
   ]
  },
  {
   "cell_type": "code",
   "execution_count": 98,
   "metadata": {
    "collapsed": false
   },
   "outputs": [
    {
     "name": "stdout",
     "output_type": "stream",
     "text": [
      "optimal\n"
     ]
    },
    {
     "name": "stderr",
     "output_type": "stream",
     "text": [
      "C:\\Programs\\Anaconda3\\lib\\site-packages\\ipykernel\\__main__.py:7: RuntimeWarning: overflow encountered in ubyte_scalars\n"
     ]
    }
   ],
   "source": [
    "ts = cv.Variable(tau_min.shape[0])\n",
    "\n",
    "#t2 = \n",
    "d1 = 1/d\n",
    "\n",
    "\n",
    "veh_obj = cv.Minimize(a*cv.sum_squares(cv.inv_pos(d1*ts))+b*cv.sum_entries(cv.inv_pos(d1*ts))+n*c)\n",
    "A=np.ones((n,n))\n",
    "rows,cols = np.indices(A.shape)\n",
    "A[cols-rows>0]=0\n",
    "veh_constr = [ts<=d/s_min, ts >= d/s_max, A*ts <= tau_max, A*ts >= tau_min ]\n",
    "\n",
    "veh_problem = cv.Problem(veh_obj,veh_constr)\n",
    "\n",
    "veh_problem.solve()\n",
    "\n",
    "print(veh_problem.status)"
   ]
  },
  {
   "cell_type": "code",
   "execution_count": 113,
   "metadata": {
    "collapsed": false
   },
   "outputs": [
    {
     "name": "stdout",
     "output_type": "stream",
     "text": [
      "(100, 1)\n",
      "(1, 100)\n"
     ]
    },
    {
     "data": {
      "text/plain": [
       "[<matplotlib.lines.Line2D at 0x1eccadb92b0>,\n",
       " <matplotlib.lines.Line2D at 0x1eccadb9550>,\n",
       " <matplotlib.lines.Line2D at 0x1eccadb9748>,\n",
       " <matplotlib.lines.Line2D at 0x1eccadb9940>,\n",
       " <matplotlib.lines.Line2D at 0x1eccadb9b38>,\n",
       " <matplotlib.lines.Line2D at 0x1eccadb9d30>,\n",
       " <matplotlib.lines.Line2D at 0x1eccadb9f28>,\n",
       " <matplotlib.lines.Line2D at 0x1eccadbc160>,\n",
       " <matplotlib.lines.Line2D at 0x1eccadbc358>,\n",
       " <matplotlib.lines.Line2D at 0x1eccadbc550>,\n",
       " <matplotlib.lines.Line2D at 0x1eccadbc748>,\n",
       " <matplotlib.lines.Line2D at 0x1eccadbc940>,\n",
       " <matplotlib.lines.Line2D at 0x1eccadbcb38>,\n",
       " <matplotlib.lines.Line2D at 0x1eccadbcd30>,\n",
       " <matplotlib.lines.Line2D at 0x1eccad85320>,\n",
       " <matplotlib.lines.Line2D at 0x1eccadc1160>,\n",
       " <matplotlib.lines.Line2D at 0x1eccadc1358>,\n",
       " <matplotlib.lines.Line2D at 0x1eccadc1550>,\n",
       " <matplotlib.lines.Line2D at 0x1eccadc1748>,\n",
       " <matplotlib.lines.Line2D at 0x1eccadc1940>,\n",
       " <matplotlib.lines.Line2D at 0x1eccadc1b38>,\n",
       " <matplotlib.lines.Line2D at 0x1eccadbcf28>,\n",
       " <matplotlib.lines.Line2D at 0x1eccadc1f28>,\n",
       " <matplotlib.lines.Line2D at 0x1eccadc5160>,\n",
       " <matplotlib.lines.Line2D at 0x1eccadc5358>,\n",
       " <matplotlib.lines.Line2D at 0x1eccadc5550>,\n",
       " <matplotlib.lines.Line2D at 0x1eccadc5748>,\n",
       " <matplotlib.lines.Line2D at 0x1eccadc5940>,\n",
       " <matplotlib.lines.Line2D at 0x1eccadc1d30>,\n",
       " <matplotlib.lines.Line2D at 0x1eccadc5d30>,\n",
       " <matplotlib.lines.Line2D at 0x1eccadc5f28>,\n",
       " <matplotlib.lines.Line2D at 0x1eccadca160>,\n",
       " <matplotlib.lines.Line2D at 0x1eccadca358>,\n",
       " <matplotlib.lines.Line2D at 0x1eccadca550>,\n",
       " <matplotlib.lines.Line2D at 0x1eccadca748>,\n",
       " <matplotlib.lines.Line2D at 0x1eccadc5b38>,\n",
       " <matplotlib.lines.Line2D at 0x1eccadcab38>,\n",
       " <matplotlib.lines.Line2D at 0x1eccadcad30>,\n",
       " <matplotlib.lines.Line2D at 0x1eccadcaf28>,\n",
       " <matplotlib.lines.Line2D at 0x1eccadcd160>,\n",
       " <matplotlib.lines.Line2D at 0x1eccadcd358>,\n",
       " <matplotlib.lines.Line2D at 0x1eccadcd550>,\n",
       " <matplotlib.lines.Line2D at 0x1eccadca940>,\n",
       " <matplotlib.lines.Line2D at 0x1eccadcd940>,\n",
       " <matplotlib.lines.Line2D at 0x1eccadcdb38>,\n",
       " <matplotlib.lines.Line2D at 0x1eccadcdd30>,\n",
       " <matplotlib.lines.Line2D at 0x1eccadcdf28>,\n",
       " <matplotlib.lines.Line2D at 0x1eccadd1160>,\n",
       " <matplotlib.lines.Line2D at 0x1eccadd1358>,\n",
       " <matplotlib.lines.Line2D at 0x1eccadcd748>,\n",
       " <matplotlib.lines.Line2D at 0x1eccadd1748>,\n",
       " <matplotlib.lines.Line2D at 0x1eccadd1940>,\n",
       " <matplotlib.lines.Line2D at 0x1eccadd1b38>,\n",
       " <matplotlib.lines.Line2D at 0x1eccadd1d30>,\n",
       " <matplotlib.lines.Line2D at 0x1eccadd1f28>,\n",
       " <matplotlib.lines.Line2D at 0x1eccadd5160>,\n",
       " <matplotlib.lines.Line2D at 0x1eccadd1550>,\n",
       " <matplotlib.lines.Line2D at 0x1eccadd5550>,\n",
       " <matplotlib.lines.Line2D at 0x1eccadd5748>,\n",
       " <matplotlib.lines.Line2D at 0x1eccadd5940>,\n",
       " <matplotlib.lines.Line2D at 0x1eccadd5b38>,\n",
       " <matplotlib.lines.Line2D at 0x1eccadd5d30>,\n",
       " <matplotlib.lines.Line2D at 0x1eccadd5f28>,\n",
       " <matplotlib.lines.Line2D at 0x1eccadd5358>,\n",
       " <matplotlib.lines.Line2D at 0x1eccadd8358>,\n",
       " <matplotlib.lines.Line2D at 0x1eccadd8550>,\n",
       " <matplotlib.lines.Line2D at 0x1eccadd8748>,\n",
       " <matplotlib.lines.Line2D at 0x1eccadd8940>,\n",
       " <matplotlib.lines.Line2D at 0x1eccadd8b38>,\n",
       " <matplotlib.lines.Line2D at 0x1eccadd8d30>,\n",
       " <matplotlib.lines.Line2D at 0x1eccadd8160>,\n",
       " <matplotlib.lines.Line2D at 0x1eccadde160>,\n",
       " <matplotlib.lines.Line2D at 0x1eccadde358>,\n",
       " <matplotlib.lines.Line2D at 0x1eccadde550>,\n",
       " <matplotlib.lines.Line2D at 0x1eccadde748>,\n",
       " <matplotlib.lines.Line2D at 0x1eccadde940>,\n",
       " <matplotlib.lines.Line2D at 0x1eccaddeb38>,\n",
       " <matplotlib.lines.Line2D at 0x1eccadd8f28>,\n",
       " <matplotlib.lines.Line2D at 0x1eccaddef28>,\n",
       " <matplotlib.lines.Line2D at 0x1eccade0160>,\n",
       " <matplotlib.lines.Line2D at 0x1eccade0358>,\n",
       " <matplotlib.lines.Line2D at 0x1eccade0550>,\n",
       " <matplotlib.lines.Line2D at 0x1eccade0748>,\n",
       " <matplotlib.lines.Line2D at 0x1eccade0940>,\n",
       " <matplotlib.lines.Line2D at 0x1eccadded30>,\n",
       " <matplotlib.lines.Line2D at 0x1eccade0d30>,\n",
       " <matplotlib.lines.Line2D at 0x1eccade0f28>,\n",
       " <matplotlib.lines.Line2D at 0x1eccade6160>,\n",
       " <matplotlib.lines.Line2D at 0x1eccade6358>,\n",
       " <matplotlib.lines.Line2D at 0x1eccade6550>,\n",
       " <matplotlib.lines.Line2D at 0x1eccade6748>,\n",
       " <matplotlib.lines.Line2D at 0x1eccade0b38>,\n",
       " <matplotlib.lines.Line2D at 0x1eccade6b38>,\n",
       " <matplotlib.lines.Line2D at 0x1eccade6d30>,\n",
       " <matplotlib.lines.Line2D at 0x1eccade6f28>,\n",
       " <matplotlib.lines.Line2D at 0x1eccade9160>,\n",
       " <matplotlib.lines.Line2D at 0x1eccade9358>,\n",
       " <matplotlib.lines.Line2D at 0x1eccade9550>,\n",
       " <matplotlib.lines.Line2D at 0x1eccade6940>,\n",
       " <matplotlib.lines.Line2D at 0x1eccade9940>]"
      ]
     },
     "execution_count": 113,
     "metadata": {},
     "output_type": "execute_result"
    },
    {
     "data": {
      "image/png": "[encoded data removed]",
      "text/plain": [
       "<matplotlib.figure.Figure at 0x1ecca92e5c0>"
      ]
     },
     "metadata": {},
     "output_type": "display_data"
    }
   ],
   "source": [
    "print(ts.value.shape)\n",
    "plt.figure(figsize=(8,8))\n",
    "times = ts.value\n",
    "times=times.reshape(n)\n",
    "print((times/d).shape)\n",
    "plt.step(times,times/d)\n",
    "\n",
    "#plt.plot(states[:-1], smin, linestyle='--',linewidth=1.5, drawstyle='steps')\n",
    "#plt.plot(states[:-1], smax, linestyle='--',linewidth=1.5, drawstyle='steps')\n",
    "#plt.title('Velocity at different waypoints')\n",
    "#plt.xlabel('\"Stopping\" times')\n",
    "#plt.ylabel('Velocity')"
   ]
  },
  {
   "cell_type": "code",
   "execution_count": null,
   "metadata": {
    "collapsed": true
   },
   "outputs": [],
   "source": []
  }
 ],
 "metadata": {
  "anaconda-cloud": {},
  "kernelspec": {
   "display_name": "Python [conda root]",
   "language": "python",
   "name": "conda-root-py"
  },
  "language_info": {
   "codemirror_mode": {
    "name": "ipython",
    "version": 3
   },
   "file_extension": ".py",
   "mimetype": "text/x-python",
   "name": "python",
   "nbconvert_exporter": "python",
   "pygments_lexer": "ipython3",
   "version": "3.5.2"
  }
 },
 "nbformat": 4,
 "nbformat_minor": 1
}
