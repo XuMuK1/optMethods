{
 "cells": [
  {
   "cell_type": "markdown",
   "metadata": {},
   "source": [
    "# Assignment 5, by Maksim Kaledin\n",
    "\n",
    "This is a jupyter part of the report.\n",
    "\n",
    "## Problem 7\n",
    "\n",
    "First let us formulate the dual problem:\n",
    "\n",
    "$$\\begin{split}\n",
    "& \\max_\\lambda \\inf_x \\left( 2x_1^2+2x_2^2-x_1x_2 +\\lambda_1 (1-2x_1-3x_2)+\\lambda_2(1-5x_1-4x_2)\\right)\\\\\n",
    "& s.t. \\lambda \\geq 0\n",
    "\\end{split}.$$\n",
    "\n",
    "KKT conditions for the primal problem are\n",
    "\n",
    "* (stationarity conditions) $\\nabla_x L(x,\\lambda)=0$\n",
    "$$\n",
    "\\begin{split}\n",
    "    &4x_1-x_2-2\\lambda_1-5\\lambda_2=0,\\\\\n",
    "    &4x_2-x_1-3\\lambda_1-4\\lambda_2=0;\n",
    "\\end{split}\n",
    "$$\n",
    "* (feasibility conditions), these are constraints from initial primal problem;\n",
    "* (complementary slackness conditions)\n",
    "$$\n",
    "\\begin{split}\n",
    "    &\\lambda_1(1-2x_1-3x_2)=0,\\\\\n",
    "    &\\lambda_2(1-5x_1-4x_2)=0.\n",
    "\\end{split}\n",
    "$$\n",
    "\n",
    "In order to put the dual problem into CVX we also need to reformulate it to optimize a convex function:\n",
    "\n",
    "$$\\begin{split}\n",
    "& \\min_\\lambda -\\max_x \\left[ -\\left( 2x_1^2+2x_2^2-x_1x_2 +\\lambda_1 (1-2x_1-3x_2)+\\lambda_2(1-5x_1-4x_2)\\right)\\right]\\\\\n",
    "& s.t. \\lambda \\geq 0\n",
    "\\end{split}.$$"
   ]
  },
  {
   "cell_type": "code",
   "execution_count": null,
   "metadata": {
    "collapsed": true
   },
   "outputs": [],
   "source": []
  },
  {
   "cell_type": "markdown",
   "metadata": {},
   "source": [
    "## Problem 1\n",
    "\n",
    "To handle censored data we can exploit the known information about lower bound: let us demand that predicted values for censored observations are bounded from below with $D$. The corresponding optimization problem is\n",
    "$$\n",
    "\\begin{split}\n",
    "&\\min_{c^T} \\sum_{i=1}^{M} (c^Tx_i-y_i)^2,\\\\\n",
    "&s.t. \\quad c^Tx_i>D \\quad \\text{for $i>M$},\n",
    "\\end{split}\n",
    "$$\n",
    "where $M$ is amount of known $y_i$, $x_i$ are input data vectors. "
   ]
  },
  {
   "cell_type": "code",
   "execution_count": null,
   "metadata": {
    "collapsed": true
   },
   "outputs": [],
   "source": []
  },
  {
   "cell_type": "markdown",
   "metadata": {},
   "source": [
    "## Problem 2\n",
    "\n",
    "Denote by $t_i$ the travel time on a segment $i$, $i\\in{0,..,n}$ ($t$ is a vector of $t_i$), let $n+1$ be a number of waypoints enumareted from $0$, $d_i$ be the length of $i$-th segment, $s_{min}^i,s_{max}^i$ and $T^{i}_{min},T^i_{max}$ be the speed and schedule constraints described in the problem. The corresponding optimization problem is\n",
    "\n",
    "$$\n",
    "\\begin{split}\n",
    "&\\min_{t} \\sum_{i=0}^n \\Phi\\left( \\frac{d_i}{t_i}\\right),\\\\\n",
    "& s.t. \\quad \\forall i \\quad {t_i} \\geq \\frac{d_i}{s_{max}^i},~ {t_i} \\leq \\frac{d_i}{s_{min}^i},\\\\\n",
    "& \\quad \\forall i \\sum_{j=0}^i t_j \\leq T_{max}^i, ~ \\sum_{j=0}^i t_j \\geq T_{min}^i,\\\\\n",
    "& \\quad \\forall i ~ t_i \\geq 0.\n",
    "\\end{split}\n",
    "$$"
   ]
  },
  {
   "cell_type": "code",
   "execution_count": null,
   "metadata": {
    "collapsed": true
   },
   "outputs": [],
   "source": []
  }
 ],
 "metadata": {
  "anaconda-cloud": {},
  "kernelspec": {
   "display_name": "Python [conda root]",
   "language": "python",
   "name": "conda-root-py"
  },
  "language_info": {
   "codemirror_mode": {
    "name": "ipython",
    "version": 3
   },
   "file_extension": ".py",
   "mimetype": "text/x-python",
   "name": "python",
   "nbconvert_exporter": "python",
   "pygments_lexer": "ipython3",
   "version": "3.5.2"
  }
 },
 "nbformat": 4,
 "nbformat_minor": 1
}
