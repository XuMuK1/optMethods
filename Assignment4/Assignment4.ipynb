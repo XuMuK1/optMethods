{
 "cells": [
  {
   "cell_type": "markdown",
   "metadata": {},
   "source": [
    "# Assignment 4, by Maksim Kaledin\n",
    "\n",
    "## Sub-problem 1\n",
    "\n",
    "Let $b_j$ be the coordinate of $j$-th beacon, $w_i$ be the location of waypoint number $i$. Reconstruction problem could be formulated as LS problem with residuals $b_j-w_i-d_{ij}$, where $d_{ij}$ is the displacement of beacon $i$ w.r.to waypoint $i$. So we get the following minimization problem:\n",
    "\n",
    "$$\n",
    "\\min_{\\mathbf{w},\\mathbf{b}} \\sum_{i \\in W} \\sum_{j \\in N(i)} \\Vert b_j-w_i-d_{ij} \\Vert,\n",
    "$$\n",
    "\n",
    "here $W$ denotes set of waypoints and $N(i)$ stands for \"neigbourhood\", the set of beacons sensed in waypoint $i$.\n",
    "\n",
    "To solve this one way is to construct the normal equations, its solution will be an optimum since the goal function $F$ is convex.\n",
    "\n",
    "$$\n",
    "\\begin{split}\n",
    "\\frac{\\partial F}{\\partial b_j}= \\sum_{i \\in W: j \\in N(i)} 2(b_j-w_i-d_{ij}),\\\\\n",
    "\\frac{\\partial F}{\\partial w_i}= \\sum_{j \\in N(i)} -2(b_j-w_i-d_{ij})\n",
    "\\end{split}\n",
    "$$\n",
    "\n",
    "is a system of linear equations, so we construct the matrix $A$, right part $\\mathbf{f}$, and solve\n",
    "\n",
    "$$\n",
    "A\n",
    "\\begin{bmatrix}\n",
    "\\mathbf{b}\\\\\n",
    "\\mathbf{w}\n",
    "\\end{bmatrix}=\\mathbf{f}.\n",
    "$$\n"
   ]
  },
  {
   "cell_type": "code",
   "execution_count": 1,
   "metadata": {
    "collapsed": true
   },
   "outputs": [],
   "source": [
    "import numpy as np\n",
    "import matplotlib.pyplot as plt\n",
    "%matplotlib inline"
   ]
  },
  {
   "cell_type": "code",
   "execution_count": 8,
   "metadata": {
    "collapsed": true
   },
   "outputs": [],
   "source": [
    "def construct_linsyst(ws,bs,ds_x,ds_y):\n",
    "\n",
    "    beacs_inds = np.sort(np.unique(bs))\n",
    "    ws_inds = np.unique(ws)\n",
    "    \n",
    "    n=ws_inds.shape[0]\n",
    "    m=beacs_inds.shape[0]\n",
    "    \n",
    "    A=np.zeros((2*(n+m),2*(n+m)))\n",
    "    f=np.zeros((2*(n+m),1))\n",
    "    #construct the first set of eqs vector is b_00 b_01, b_10 b_11 ,...\n",
    "    for j in beacs_inds:\n",
    "        j_ind = np.where(bs==j)\n",
    "        w_ind = np.unique(ws[j_ind])\n",
    "        A[2*(j-1),2*(m+w_ind-1)]=-1 #set coef before w_i\n",
    "        A[2*(j-1)+1,2*(m+w_ind-1)+1]=-1\n",
    "        \n",
    "        A[2*(j-1),2*(j-1)]=w_ind.shape[0]\n",
    "        A[2*(j-1)+1,2*(j-1)+1]=w_ind.shape[0]\n",
    "        \n",
    "        f[2*(j-1)]=np.sum(ds_x[j_ind])\n",
    "        f[2*(j-1)+1]=np.sum(ds_y[j_ind])\n",
    "        \n",
    "    #the second one\n",
    "    for i in ws_inds:\n",
    "        b_ind=np.unique(bs[np.where(ws==i)])\n",
    "        \n",
    "        A[2*m+2*(i-1),2*(b_ind-1)]=1#set coef before b_i\n",
    "        A[2*m+2*(i-1)+1,2*(b_ind-1)+1]=1\n",
    "        \n",
    "        A[2*m+2*(i-1),2*m+2*(i-1)]=-b_ind.shape[0]\n",
    "        A[2*m+2*(i-1)+1,2*m+2*(i-1)+1]=-b_ind.shape[0]\n",
    "        \n",
    "        w_ind=np.where(ws==i)\n",
    "        f[2*m+2*(i-1)]=np.sum(ds_x[w_ind])\n",
    "        f[2*m+2*(i-1)+1]=np.sum(ds_y[w_ind])\n",
    "        \n",
    "    return (A,f)\n",
    "\n"
   ]
  },
  {
   "cell_type": "code",
   "execution_count": 9,
   "metadata": {
    "collapsed": true
   },
   "outputs": [],
   "source": [
    "import scipy.io as sio\n",
    "\n",
    "task1_contents = sio.loadmat('task1.mat')\n",
    "\n",
    "beacs_1 = task1_contents['beacons']\n",
    "robots_1 = task1_contents['robots']\n",
    "x_1 = task1_contents['x']\n",
    "y_1 = task1_contents['y']\n",
    "\n",
    "n=np.unique(robots_1).shape[0]\n",
    "m=np.unique(beacs_1).shape[0]\n",
    "\n",
    "    \n",
    "(A,f) = construct_linsyst(robots_1,beacs_1,x_1,y_1)\n"
   ]
  },
  {
   "cell_type": "code",
   "execution_count": 10,
   "metadata": {
    "collapsed": true
   },
   "outputs": [],
   "source": [
    "import scipy.linalg as splin\n",
    "\n",
    "sol = splin.solve(A,f)"
   ]
  },
  {
   "cell_type": "code",
   "execution_count": 16,
   "metadata": {
    "collapsed": false,
    "scrolled": true
   },
   "outputs": [
    {
     "data": {
      "text/plain": [
       "<matplotlib.legend.Legend at 0x1fc27f38f98>"
      ]
     },
     "execution_count": 16,
     "metadata": {},
     "output_type": "execute_result"
    },
    {
     "data": {
      "image/png": "[encoded data removed]",
      "text/plain": [
       "<matplotlib.figure.Figure at 0x1fc27eef550>"
      ]
     },
     "metadata": {},
     "output_type": "display_data"
    }
   ],
   "source": [
    "waypoints_x = np.array(sol[np.arange(2*m,2*m+2*n,2),0])\n",
    "waypoints_y = np.array(sol[np.arange(2*m+1,2*m+2*n,2),0])\n",
    "\n",
    "#print(waypoints_x,waypoints_y)\n",
    "beacons_x = np.array(sol[np.arange(0,2*m,2),0])\n",
    "beacons_y = np.array(sol[np.arange(1,2*m,2),0])\n",
    "#print(beacons_x,beacons_y)\n",
    "f, ax = plt.subplots(figsize=(5,5))\n",
    "\n",
    "plt1 = ax.scatter(waypoints_x,waypoints_y)\n",
    "plt2 = ax.scatter(beacons_x,beacons_y,marker='x',c='green',s=80)\n",
    "ax.legend([plt1,plt2],[\"waypoints\",\"beacons\"])"
   ]
  },
  {
   "cell_type": "code",
   "execution_count": null,
   "metadata": {
    "collapsed": true
   },
   "outputs": [],
   "source": []
  },
  {
   "cell_type": "code",
   "execution_count": null,
   "metadata": {
    "collapsed": true
   },
   "outputs": [],
   "source": []
  }
 ],
 "metadata": {
  "anaconda-cloud": {},
  "kernelspec": {
   "display_name": "Python [conda root]",
   "language": "python",
   "name": "conda-root-py"
  },
  "language_info": {
   "codemirror_mode": {
    "name": "ipython",
    "version": 3
   },
   "file_extension": ".py",
   "mimetype": "text/x-python",
   "name": "python",
   "nbconvert_exporter": "python",
   "pygments_lexer": "ipython3",
   "version": "3.5.2"
  }
 },
 "nbformat": 4,
 "nbformat_minor": 1
}
