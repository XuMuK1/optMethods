{
 "cells": [
  {
   "cell_type": "markdown",
   "metadata": {},
   "source": [
    "# Assignment 4, by Maksim Kaledin\n",
    "\n",
    "## Sub-problem 1\n",
    "\n",
    "Let $b_j$ be the coordinate of $j$-th beacon, $w_i$ be the location of waypoint number $i$. Reconstruction problem could be formulated as LS problem with residuals $b_j-w_i-d_{ij}$, where $d_{ij}$ is the displacement of beacon $i$ w.r.to waypoint $i$. So we get the following minimization problem:\n",
    "\n",
    "$$\n",
    "\\min_{\\mathbf{w},\\mathbf{b}} \\sum_{i \\in W} \\sum_{j \\in N(i)} \\Vert b_j-w_i-d_{ij} \\Vert,\n",
    "$$\n",
    "\n",
    "here $W$ denotes set of waypoints and $N(i)$ stands for \"neigbourhood\", the set of beacons sensed in waypoint $i$.\n",
    "\n",
    "To solve this one way is to construct the normal equations, its solution will be an optimum since the goal function $F$ is convex.\n",
    "\n",
    "$$\n",
    "\\begin{split}\n",
    "\\frac{\\partial F}{\\partial b_j}= \\sum_{i \\in W: j \\in N(i)} 2(b_j-w_i-d_{ij}),\\\\\n",
    "\\frac{\\partial F}{\\partial w_i}= \\sum_{j \\in N(i)} -2(b_j-w_i-d_{ij})\n",
    "\\end{split}\n",
    "$$\n",
    "\n",
    "is a system of linear equations, so we construct the matrix $A$, right part $\\mathbf{f}$, and solve\n",
    "\n",
    "$$\n",
    "A\n",
    "\\begin{bmatrix}\n",
    "\\mathbf{b}\\\\\n",
    "\\mathbf{w}\n",
    "\\end{bmatrix}=\\mathbf{f}.\n",
    "$$\n"
   ]
  },
  {
   "cell_type": "code",
   "execution_count": 34,
   "metadata": {},
   "outputs": [],
   "source": [
    "import numpy as np\n",
    "import matplotlib.pyplot as plt\n",
    "%matplotlib inline"
   ]
  },
  {
   "cell_type": "code",
   "execution_count": 25,
   "metadata": {},
   "outputs": [],
   "source": [
    "def construct_linsyst(ws,bs,ds_x,ds_y):\n",
    "\n",
    "    beacs_inds = np.sort(np.unique(bs))\n",
    "    ws_inds = np.unique(ws)\n",
    "    \n",
    "    n=ws_inds.shape[0]\n",
    "    m=beacs_inds.shape[0]\n",
    "    \n",
    "    A=np.zeros((2*(n+m),2*(n+m)))\n",
    "    f=np.zeros((2*(n+m),1))\n",
    "    #construct the first set of eqs vector is b_00 b_01, b_10 b_11 ,...\n",
    "    for j in beacs_inds:\n",
    "        j_ind = np.where(bs==j)\n",
    "        w_ind = np.unique(ws[j_ind])\n",
    "        A[2*(j-1),2*(m+w_ind-1)]=-1 #set coef before w_i\n",
    "        A[2*(j-1)+1,2*(m+w_ind-1)+1]=-1\n",
    "        \n",
    "        A[2*(j-1),2*(j-1)]=w_ind.shape[0]\n",
    "        A[2*(j-1)+1,2*(j-1)+1]=w_ind.shape[0]\n",
    "        \n",
    "        f[2*(j-1)]=np.sum(ds_x[j_ind])\n",
    "        f[2*(j-1)+1]=np.sum(ds_y[j_ind])\n",
    "        \n",
    "    #the second one\n",
    "    for i in ws_inds:\n",
    "        b_ind=np.unique(bs[np.where(ws==i)])\n",
    "        \n",
    "        A[2*m+2*(i-1),2*(b_ind-1)]=1#set coef before b_i\n",
    "        A[2*m+2*(i-1)+1,2*(b_ind-1)+1]=1\n",
    "        \n",
    "        A[2*m+2*(i-1),2*m+2*(i-1)]=b_ind.shape[0]\n",
    "        A[2*m+2*(i-1)+1,2*m+2*(i-1)+1]=b_ind.shape[0]\n",
    "        \n",
    "        w_ind=np.where(ws==i)\n",
    "        f[2*m+2*(j-1)]=np.sum(ds_x[w_ind])\n",
    "        f[2*m+2*(j-1)+1]=np.sum(ds_y[w_ind])\n",
    "        \n",
    "    return (A,f)\n",
    "\n"
   ]
  },
  {
   "cell_type": "code",
   "execution_count": 60,
   "metadata": {},
   "outputs": [],
   "source": [
    "import scipy.io as sio\n",
    "\n",
    "task1_contents = sio.loadmat('task1.mat')\n",
    "\n",
    "beacs_1 = task1_contents['beacons']\n",
    "robots_1 = task1_contents['robots']\n",
    "x_1 = task1_contents['x']\n",
    "y_1 = task1_contents['y']\n",
    "\n",
    "n=np.unique(robots_1).shape[0]\n",
    "m=np.unique(beacs_1).shape[0]\n",
    "\n",
    "    \n",
    "(A,f) = construct_linsyst(robots_1,beacs_1,x_1,y_1)\n"
   ]
  },
  {
   "cell_type": "code",
   "execution_count": 61,
   "metadata": {},
   "outputs": [],
   "source": [
    "import scipy.linalg as splin\n",
    "\n",
    "sol = splin.solve(A,f)"
   ]
  },
  {
   "cell_type": "code",
   "execution_count": 67,
   "metadata": {},
   "outputs": [
    {
     "name": "stdout",
     "output_type": "stream",
     "text": [
      "[ 46.17830451  49.05478337  46.17830451  49.05478337  46.17830451\n",
      "  49.05478337  49.05478337  49.05478337  36.5516444   32.61793733\n",
      "  32.61793733  18.84354816  32.40391534  -6.64344604 -13.40953334\n",
      "  -8.37849586   8.66868987 -12.21247348 -38.28418151 -47.44032887\n",
      " -49.87987164 -49.87987164 -49.87987164 -51.14207686 -51.14207686\n",
      " -52.69183565 -49.87987164 -49.87987164] [ 27.03783089  -4.75821226  27.03783089  -4.75821226  27.03783089\n",
      "  -4.75821226  -4.75821226  -4.75821226 -28.83400223   7.7819623\n",
      "   7.7819623   27.94344745  47.19931604 -20.25315295  10.11052203\n",
      "  65.04531745 -28.95484736  34.98586651 -27.07647069 -34.30131881\n",
      "  -0.80215477  -0.80215477  -0.80215477  29.80918719  29.80918719\n",
      "  60.70778185  -0.80215477  -0.80215477]\n",
      "[-106.11429028  -97.72882441  -87.04270402  -47.71390888  -43.7733737\n",
      "    0.66773983  -13.10155269   25.38047806    2.36864715   12.46628895\n",
      "   12.98240774    6.41478949   60.09746818   50.52098934   81.01310574\n",
      "   79.66396834  105.97759714] [ -28.99612684   41.45196738  -74.73508579  103.91327697 -111.47841808\n",
      " -146.1379269   128.99718947 -129.31752331  125.05082188 -119.8399138\n",
      "  117.87123395 -138.99612286   81.48806531 -117.51469052   44.45839618\n",
      "  -81.19733791  -24.74312788]\n"
     ]
    },
    {
     "data": {
      "text/plain": [
       "<matplotlib.legend.Legend at 0x339e7a5e48>"
      ]
     },
     "execution_count": 67,
     "metadata": {},
     "output_type": "execute_result"
    },
    {
     "data": {
      "image/png": "[encoded data removed]",
      "text/plain": [
       "<matplotlib.figure.Figure at 0x339e77ca90>"
      ]
     },
     "metadata": {},
     "output_type": "display_data"
    }
   ],
   "source": [
    "waypoints_x = np.array(sol[np.arange(2*m,2*m+2*n,2),0])\n",
    "waypoints_y = np.array(sol[np.arange(2*m+1,2*m+2*n,2),0])\n",
    "\n",
    "print(waypoints_x,waypoints_y)\n",
    "beacons_x = np.array(sol[np.arange(0,2*m,2),0])\n",
    "beacons_y = np.array(sol[np.arange(1,2*m,2),0])\n",
    "print(beacons_x,beacons_y)\n",
    "f, ax = plt.subplots(figsize=(5,5))\n",
    "\n",
    "plt1, = ax.plot(waypoints_x,waypoints_y)\n",
    "plt2 = ax.scatter(beacons_x,beacons_y)\n",
    "ax.legend([plt1,plt2],[\"way\",\"beacons\"])"
   ]
  },
  {
   "cell_type": "code",
   "execution_count": null,
   "metadata": {},
   "outputs": [],
   "source": []
  }
 ],
 "metadata": {
  "anaconda-cloud": {},
  "kernelspec": {
   "display_name": "Python [Root]",
   "language": "python",
   "name": "Python [Root]"
  },
  "language_info": {
   "codemirror_mode": {
    "name": "ipython",
    "version": 3
   },
   "file_extension": ".py",
   "mimetype": "text/x-python",
   "name": "python",
   "nbconvert_exporter": "python",
   "pygments_lexer": "ipython3",
   "version": "3.5.2"
  }
 },
 "nbformat": 4,
 "nbformat_minor": 1
}
