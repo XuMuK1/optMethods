{
 "cells": [
  {
   "cell_type": "markdown",
   "metadata": {},
   "source": [
    "# Problem 1\n",
    "\n",
    "**Capacitated facility location**\n",
    "\n",
    "You need to solve a *capacitated facility location* problem. There are a number of clients that can be served by a number of potential facilities. As in the case of a common (uncapacitated) facility location problem, you need to decide which facilities to open (paying the opening cost for each) and which clients to serve at each facility (paying the assignment cost). Each client must be assigned to one opened facility. In addition, you have a cap on how many clients each facility can serve. As usual, you want to minimize the costs.\n",
    "\n",
    "Implement the following algorithms and investigate them. Use the below code to generate the data, and to visualize the results. You are supposed to play with different configurations and problem sizes. Please make your report detailed (otherwise lower amount of points than indicated may be assigned).\n",
    "\n",
    "* (2 points). Implement a **greedy algorithm** for the problem.\n",
    "* (3 points). Implement **some local optimization algorithm**. Try to design powerful moves that are at the same time easy to search through. **Important:** your move should connect the whole domain, i.e. for any pair of feasible solutions, there should exist a sequence of moves from the family you design that transform one solution to the other.\n",
    "* (3 points). Implement the **simulated annealing algorithm** based on the best of your local optimization algorithms. Play with the schedule and see how it affects the results. Compare with the local optimization algorithm that you base upon. Note, that if implemented correctly, simulated annealing should improve over the local optimization algorithm.\n",
    "\n",
    "Below is the Gurobi solution that uses a mixed-integer solver (we will come to that in week 3). You can use it as a reference for small instances (for which it will give you a global optimum), and also reuse the visualization code.\n",
    "\n",
    "Before writing your code, study the cells below to learn variables, convention for the solution format etc."
   ]
  },
  {
   "cell_type": "code",
   "execution_count": 2,
   "metadata": {},
   "outputs": [],
   "source": [
    "import numpy as np\n",
    "import scipy as sp\n",
    "from numpy import random\n",
    "from numpy import matlib\n",
    "import matplotlib.pyplot as plt\n",
    "from gurobipy import GRB\n",
    "import gurobipy as grb\n",
    "\n",
    "%matplotlib inline\n",
    "\n",
    "class Problem:\n",
    "    def __init__(self, C=20, F=15):\n",
    "        self.C = C\n",
    "        self.F = F\n",
    "        \n",
    "        self.clients = np.random.rand(2, C)    # client positions\n",
    "        self.facilities = np.random.rand(2, F) # facility positions\n",
    "\n",
    "        # maximum number of clients per facility\n",
    "        self.capacities = np.ones((F,), dtype=np.int32)*4;\n",
    "\n",
    "        # assignment cost is defined as the squared distance between a client and a facility\n",
    "        dx = \\\n",
    "            np.matlib.repmat(self.clients[0,:],F,1) - \\\n",
    "            np.matlib.repmat(self.facilities[0,:],C,1).transpose();\n",
    "        dy = \\\n",
    "            np.matlib.repmat(self.clients[1,:],F,1) - \\\n",
    "            np.matlib.repmat(self.facilities[1,:],C,1).transpose();\n",
    "\n",
    "        self.assignment_costs = 3*(dx*dx + dy*dy);\n",
    "\n",
    "        self.opening_costs = np.ones((F,));\n",
    "    \n",
    "    def assign_random_capacities(self):\n",
    "        \"\"\"\n",
    "        Assign more or less random capacities to facilities.\n",
    "        \n",
    "        This is one of the possible ways to change the problem configuration.\n",
    "        In other words, use this function when testing your solution!\n",
    "        \"\"\"\n",
    "        while True:\n",
    "            self.capacities = \\\n",
    "                np.random.randint(2*self.C // self.F, size=self.F) + 1\n",
    "            if sum(self.capacities) > self.C * 1.3:\n",
    "                break\n",
    "    \n",
    "    def assign_random_opening_costs(self):\n",
    "        \"\"\"\n",
    "        Assign more or less random opening costs to facilities.\n",
    "        \n",
    "        Same as above -- use this for your report.\n",
    "        \"\"\"\n",
    "        # could be float, but let it be simple\n",
    "        self.opening_costs = \\\n",
    "            np.random.randint((self.C+self.F-1) // self.F, size=self.F) + 1\n",
    "    \n",
    "    def plot(self, y, assignments, fig=plt):\n",
    "        \"\"\"\n",
    "        Plot the given solution (y, assignments)\n",
    "        \n",
    "        Arguments:\n",
    "        y, assignments -- see Problem.objective().\n",
    "        fig            -- an instance of matplotlib.axes._axes.Axes to draw on.\n",
    "                          Also, can be matplotlib.pyplot, in this case use the default Axes.\n",
    "                          This is useful to compare your results (see \"Results comparison\" section).\n",
    "        \"\"\"\n",
    "        \n",
    "        y = np.array(y, dtype='int32')\n",
    "        assignments = np.array(assignments, dtype='int32')\n",
    "        \n",
    "        for cli,fac in enumerate(assignments):\n",
    "            fig.plot([self.clients[0,cli], self.facilities[0,fac]], \\\n",
    "                     [self.clients[1,cli], self.facilities[1,fac]], c=(.7,.7,.7))\n",
    "            \n",
    "        fig.scatter(self.clients[0,:], self.clients[1,:], s=15.0, c=assignments, \\\n",
    "                    vmin=0, vmax=self.F-1)\n",
    "        \n",
    "        fig.scatter(self.facilities[0,:], self.facilities[1,:], s=54.0, \\\n",
    "                    c=range(self.F), linewidth = [1*el for el in y], marker=',')\n",
    "        \n",
    "    def objective(self, y, assignments):\n",
    "        \"\"\"\n",
    "        Return objective function value given a solution.\n",
    "        If the solution is infeasible, return infinity.\n",
    "        \n",
    "        Arguments:\n",
    "        y           -- a binary 1D array of size F. y[i] is 1 iff i-th facility is open.\n",
    "        assignments -- an integer 1D array of size C. assignments[i] is index of facility\n",
    "                       that i-th client is assigned to.\n",
    "        \"\"\"\n",
    "        assert len(y) == self.F\n",
    "        assert len(assignments) == self.C\n",
    "        \n",
    "        #y = np.array(y, dtype='int32')\n",
    "        #assignments = np.array(assignments, dtype='int32')\n",
    "        print(assignments)\n",
    "        retval = sum(is_opened*opening_cost \\\n",
    "                     for is_opened, opening_cost in zip(y, self.opening_costs))\n",
    "        \n",
    "        assignment_counts = np.zeros_like(y)\n",
    "        \n",
    "        for cli,fac in enumerate(assignments):\n",
    "            if not y[fac]:\n",
    "                return np.inf\n",
    "            else:\n",
    "                retval += self.assignment_costs[fac,cli]\n",
    "                assignment_counts[fac] += 1\n",
    "                \n",
    "        if any(assignment_counts > self.capacities):\n",
    "            return np.inf\n",
    "            \n",
    "        return retval\n",
    "        \n",
    "    def solve_gurobi(self, verbose=False):\n",
    "        \"\"\"\n",
    "        Solve the problem using mixed integer program solver.\n",
    "        Return `y, assignments` (see Problem.objective() docstring for format).\n",
    "        \n",
    "        Arguments:\n",
    "        verbose -- controls Gurobi output.\n",
    "        \"\"\"\n",
    "        m = grb.Model(\"facility\")\n",
    "\n",
    "        y = []\n",
    "        for i_f in range(self.F):\n",
    "            y.append(m.addVar(vtype=GRB.BINARY))\n",
    "\n",
    "        x = []    \n",
    "        for i_f in range(self.F):\n",
    "            x.append([])\n",
    "            for i_c in range(self.C):\n",
    "                x[i_f].append(m.addVar(vtype=GRB.BINARY))\n",
    "\n",
    "        # the objective is to minimize the total fixed and variable costs\n",
    "        m.modelSense = GRB.MINIMIZE\n",
    "\n",
    "        # update model to integrate new variables\n",
    "        m.update()\n",
    "\n",
    "        # set optimization objective - minimize sum of fixed costs\n",
    "        obj_summands = []\n",
    "        for i_f in range(self.F):\n",
    "            obj_summands.append(self.opening_costs[i_f]*y[i_f])\n",
    "\n",
    "        for i_f in range(self.F):\n",
    "            for i_c in range(self.C):\n",
    "                obj_summands.append(self.assignment_costs[i_f][i_c]*x[i_f][i_c])\n",
    "\n",
    "        m.setObjective(grb.quicksum(obj_summands))\n",
    "\n",
    "        # set constraints\n",
    "        for i_c in range(self.C):\n",
    "            client_constr_summands = [x[i_f][i_c] for i_f in range(self.F)]\n",
    "            m.addConstr(sum(client_constr_summands), GRB.EQUAL, 1.0)\n",
    "\n",
    "        for i_f in range(self.F):        \n",
    "            facility_constr_summands = [x[i_f][i_c] for i_c in range(self.C)]\n",
    "            m.addConstr(sum(facility_constr_summands), \\\n",
    "                        GRB.LESS_EQUAL, self.capacities[i_f]*y[i_f])       \n",
    "\n",
    "        for i_f in range(self.F):        \n",
    "            for i_c in range(self.C):\n",
    "                m.addConstr(x[i_f][i_c], GRB.LESS_EQUAL, y[i_f])\n",
    "\n",
    "        # optimize\n",
    "        m.setParam(GRB.Param.OutputFlag, verbose)\n",
    "        m.optimize()\n",
    "        \n",
    "        facilities_opened = [np.int(y[i_f].X) for i_f in range(self.F)]\n",
    "        clients_assignment = \\\n",
    "            [i_f for i_c in range(self.C) for i_f in range(self.F) if x[i_f][i_c].X != 0]\n",
    "        print(\"GRBOUT \",clients_assignment)\n",
    "        print(\"GRBOUT \",facilities_opened)\n",
    "        return facilities_opened, clients_assignment"
   ]
  },
  {
   "cell_type": "markdown",
   "metadata": {},
   "source": [
    "The following example shows `Problem` class usage."
   ]
  },
  {
   "cell_type": "code",
   "execution_count": 3,
   "metadata": {
    "scrolled": false
   },
   "outputs": [
    {
     "name": "stdout",
     "output_type": "stream",
     "text": [
      "[  4.  11.  10.  12.   6.  14.   5.   0.   7.   9.   3.   2.   4.  11.  10.\n",
      "  12.   6.  14.   5.   0.]\n",
      "GRBOUT  [14, 8, 10, 14, 7, 0, 10, 11, 2, 12, 1, 6, 1, 8, 12, 6, 5, 11, 0, 5]\n",
      "GRBOUT  [1, 1, 1, 0, 0, 1, 1, 1, 1, 0, 1, 1, 1, 0, 1]\n",
      "[14, 8, 10, 14, 7, 0, 10, 11, 2, 12, 1, 6, 1, 8, 12, 6, 5, 11, 0, 5]\n"
     ]
    },
    {
     "name": "stderr",
     "output_type": "stream",
     "text": [
      "D:\\Programs\\Anaconda\\lib\\site-packages\\ipykernel\\__main__.py:93: VisibleDeprecationWarning: using a non-integer number instead of an integer will result in an error in the future\n",
      "D:\\Programs\\Anaconda\\lib\\site-packages\\ipykernel\\__main__.py:96: VisibleDeprecationWarning: using a non-integer number instead of an integer will result in an error in the future\n",
      "D:\\Programs\\Anaconda\\lib\\site-packages\\ipykernel\\__main__.py:97: VisibleDeprecationWarning: using a non-integer number instead of an integer will result in an error in the future\n"
     ]
    },
    {
     "data": {
      "text/plain": [
       "<matplotlib.text.Text at 0x23f9417dd8>"
      ]
     },
     "execution_count": 3,
     "metadata": {},
     "output_type": "execute_result"
    },
    {
     "data": {
      "image/png": "[encoded data removed]",
      "text/plain": [
       "<matplotlib.figure.Figure at 0x23f6e47a90>"
      ]
     },
     "metadata": {},
     "output_type": "display_data"
    },
    {
     "data": {
      "image/png": "[encoded data removed]",
      "text/plain": [
       "<matplotlib.figure.Figure at 0x23f93facc0>"
      ]
     },
     "metadata": {},
     "output_type": "display_data"
    }
   ],
   "source": [
    "# to make results reproducible, be sure to put this line before creating a Problem()\n",
    "np.random.seed(666)\n",
    "\n",
    "problem = Problem()\n",
    "problem.assign_random_capacities()\n",
    "problem.assign_random_opening_costs()\n",
    "\n",
    "# completely random solution\n",
    "open_idx = list(range(problem.F))\n",
    "random.shuffle(open_idx)\n",
    "open_idx = open_idx[:problem.F * 4 // 5] # open 80% of facilities\n",
    "\n",
    "y = np.zeros(problem.F)\n",
    "y[open_idx] = 1\n",
    "\n",
    "from itertools import cycle\n",
    "assignments = np.empty(problem.C)\n",
    "for cli, fac in zip(range(problem.C), cycle(open_idx)):\n",
    "    assignments[cli] = fac\n",
    "\n",
    "ax = plt.figure().gca()\n",
    "problem.plot(y, assignments, ax)\n",
    "ax.set_title('Totally random solution, objective = %.4f' % problem.objective(y, assignments))\n",
    "\n",
    "ax = plt.figure().gca()\n",
    "y, assignments = problem.solve_gurobi()\n",
    "problem.plot(y, assignments, ax)\n",
    "ax.set_title('Most likely optimal solution, objective = %.4f' % problem.objective(y, assignments))"
   ]
  },
  {
   "cell_type": "markdown",
   "metadata": {},
   "source": [
    "## Greedy algorithm\n",
    "\n",
    "### Defining the solution\n",
    "\n",
    "First we need to define the solution."
   ]
  },
  {
   "cell_type": "code",
   "execution_count": 4,
   "metadata": {},
   "outputs": [],
   "source": [
    "class Facility:\n",
    "    def __init__(self,loc,opCost,cpcty,Id):\n",
    "        self.id=Id\n",
    "        self.location=loc\n",
    "        self.openingCost=opCost\n",
    "        self.capacity=cpcty\n",
    "        \n",
    "class Client:\n",
    "    def __init__(self,loc,assignTo=-1):\n",
    "        self.location=loc\n",
    "        self.assignment=assignTo\n",
    "        \n",
    "class Solution:\n",
    "    def __init__(self,faclts=np.array([],dtype='object'),clnts=np.array([],dtype='object')):\n",
    "        self.clients=clnts\n",
    "        self.facilities=faclts\n",
    "        self.cost=-1\n",
    "        self.feasible=False\n",
    "        \n",
    "    def ComputeCost(self):\n",
    "        if(len(self.clients)==0 or len(self.facilities)==0 or np.any([cl.assignment==-1 for cl in self.clients])):\n",
    "            self.cost=-1\n",
    "        else:\n",
    "            self.cost=np.sum([fac.openingCost for fac in self.facilities])\n",
    "            self.cost= self.cost + np.sum([np.linalg.norm(cl.location-cl.assignment.location,2)**2 for cl in self.clients])\n",
    "        return self.cost\n",
    "    \n",
    "    def CheckFeasibility(self):\n",
    "        #each client is assigned to exactly one facility\n",
    "        if(np.all([not(cl.assignment==-1) for cl in self.clients])):\n",
    "            #each facility does not exceed its capacity\n",
    "            if(np.all([np.sum([int(cl.assignment==fac) for cl in self.clients])<=fac.capacity for fac in self.facilities])):\n",
    "                self.feasible=True\n",
    "                return True\n",
    "            else:\n",
    "                self.feasible=False\n",
    "                return False\n",
    "        else:\n",
    "            self.feasible=False\n",
    "            return False\n",
    "        \n",
    "    def AssignNearestFacilities(self):\n",
    "        capacitiesLeft=np.array([fac.capacity for fac in self.facilities])\n",
    "        for cl in self.clients:\n",
    "            availableFacs=np.arange(len(self.facilities))[capacitiesLeft>0]\n",
    "            #print(len(availableFacs))\n",
    "            #print(len(self.facilities))\n",
    "            k=np.argmin([np.linalg.norm(cl.location-fac.location,2) for fac in self.facilities[availableFacs]])\n",
    "            k=availableFacs[k]\n",
    "            cl.assignment=self.facilities[k]\n",
    "            capacitiesLeft[k]=capacitiesLeft[k]-1\n",
    "                \n",
    "        "
   ]
  },
  {
   "cell_type": "markdown",
   "metadata": {},
   "source": [
    "Firstly, we can obtain a lower bound for cost by assigning clients to closest facility. Indeed, if some capacity contraints are violated in this case, one needs to swap clients between facilities and increase total distance."
   ]
  },
  {
   "cell_type": "code",
   "execution_count": 5,
   "metadata": {},
   "outputs": [],
   "source": [
    "def NNLowerBound(sol):\n",
    "    cost=0\n",
    "    for cl in sol.clients:\n",
    "        cost=cost+np.min(np.array([np.linalg.norm(cl.location-fac.location,2)**2 for fac in sol.facilities]))\n",
    "\n",
    "    return cost\n",
    "        "
   ]
  },
  {
   "cell_type": "markdown",
   "metadata": {},
   "source": [
    "Secondly, we are able to easily detect infeasibility by comparing total capacity and number of clients."
   ]
  },
  {
   "cell_type": "code",
   "execution_count": 6,
   "metadata": {},
   "outputs": [],
   "source": [
    "def CheckEarlyFeasibility(sol):\n",
    "    cap=np.sum([fac.capacity for fac in sol.facilities])\n",
    "    if(cap>=len(sol.clients)):\n",
    "        return True\n",
    "    else:\n",
    "        return False"
   ]
  },
  {
   "cell_type": "markdown",
   "metadata": {},
   "source": [
    "I have implemented the nearest facility heuristic with capacity constraints to assign clients to facilities in a Branch-and-Bound manner. NNLowerBound was used as a lower bound and we try to enumerate all possible facility openings."
   ]
  },
  {
   "cell_type": "code",
   "execution_count": 7,
   "metadata": {},
   "outputs": [],
   "source": [
    "def solve_greedy(self):\n",
    "    y = np.zeros(self.F, dtype=np.int32)\n",
    "    assignments = np.empty(self.C, dtype=np.int32)\n",
    "    \n",
    "    # your code here\n",
    "    print(self.facilities[:,0])\n",
    "    facs0=np.array([Facility(self.facilities[:,i],self.opening_costs[i],self.capacities[i],i) for i in range(0,self.F)],dtype='object')\n",
    "    cls0=np.array([Client(self.clients[:,i],-1) for i in range(0,self.C)],dtype='object')\n",
    "    sol0 = Solution(facs0,cls0)\n",
    "    \n",
    "    \n",
    "    opened=np.zeros(self.F,dtype='bool')\n",
    "    k=0\n",
    "    opt=np.Inf\n",
    "    solOpt = None\n",
    "    y=np.zeros(self.F,dtype='bool')\n",
    "    while(k<2**self.F):\n",
    "        k=k+1\n",
    "        \n",
    "        #+1 to boolean array\n",
    "        j0=len(opened)-1\n",
    "        while(j0>=0 and opened[j0]):\n",
    "            opened[j0]=False\n",
    "            j0=j0-1    \n",
    "        if(j0>=0):\n",
    "            opened[j0]=True\n",
    "        \n",
    "        assFacs=sol0.facilities[opened]\n",
    "        sol=Solution(assFacs,np.copy(sol0.clients))\n",
    "        if(CheckEarlyFeasibility(sol)):\n",
    "            if(NNLowerBound(sol0)+np.sum([fac.openingCost for fac in assFacs])<opt):\n",
    "                sol.AssignNearestFacilities()\n",
    "                if(sol.ComputeCost()<opt):\n",
    "                    opt=sol.cost\n",
    "                    print(\"New optimal Cost!\",opt)\n",
    "                    y=np.copy(opened)\n",
    "                    print(np.any([not(y[cl.assignment.id]) for cl in sol.clients]))\n",
    "                    assignments=[cl.assignment.id for cl in sol.clients]\n",
    "                    \n",
    "    \n",
    "    \n",
    "    print(assignments)    \n",
    "    y=np.array(y,dtype='int32')    \n",
    "    print(y)\n",
    "    \n",
    "    return y, assignments\n",
    "\n",
    "Problem.solve_greedy = solve_greedy\n"
   ]
  },
  {
   "cell_type": "markdown",
   "metadata": {},
   "source": [
    "*(Demonstrate your greedy algorithm here)*"
   ]
  },
  {
   "cell_type": "code",
   "execution_count": 8,
   "metadata": {},
   "outputs": [
    {
     "name": "stdout",
     "output_type": "stream",
     "text": [
      "[ 0.27146397  0.85391861]\n",
      "New optimal Cost! 18.4646507496\n",
      "False\n",
      "New optimal Cost! 17.6359875781\n",
      "False\n",
      "New optimal Cost! 17.3411539289\n",
      "False\n",
      "New optimal Cost! 17.1699690544\n",
      "False\n",
      "New optimal Cost! 16.4684093751\n",
      "False\n",
      "New optimal Cost! 16.3057485972\n",
      "False\n",
      "New optimal Cost! 16.2341504909\n",
      "False\n",
      "New optimal Cost! 16.1876146361\n",
      "False\n",
      "New optimal Cost! 16.1505713992\n",
      "False\n",
      "New optimal Cost! 15.3148700823\n",
      "False\n",
      "New optimal Cost! 15.1676078513\n",
      "False\n",
      "New optimal Cost! 15.0960097449\n",
      "False\n",
      "New optimal Cost! 15.058966508\n",
      "False\n",
      "[11, 13, 5, 1, 1, 0, 13, 11, 5, 4, 4, 3, 10, 6, 6, 0, 3, 12, 12, 7]\n",
      "[1 1 0 1 1 1 1 1 0 0 1 1 1 1 0]\n"
     ]
    }
   ],
   "source": [
    "problem = Problem()\n",
    "problem.assign_random_capacities()\n",
    "problem.assign_random_opening_costs()\n",
    "\n",
    "y, assignments=problem.solve_greedy()"
   ]
  },
  {
   "cell_type": "code",
   "execution_count": 9,
   "metadata": {},
   "outputs": [
    {
     "name": "stdout",
     "output_type": "stream",
     "text": [
      "[11, 13, 5, 1, 1, 0, 13, 11, 5, 4, 4, 3, 10, 6, 6, 0, 3, 12, 12, 7]\n",
      "[1 1 0 1 1 1 1 1 0 0 1 1 1 1 0]\n",
      "[11, 13, 5, 1, 1, 0, 13, 11, 5, 4, 4, 3, 10, 6, 6, 0, 3, 12, 12, 7]\n"
     ]
    },
    {
     "data": {
      "image/png": "[encoded data removed]",
      "text/plain": [
       "<matplotlib.figure.Figure at 0x23f9c63908>"
      ]
     },
     "metadata": {},
     "output_type": "display_data"
    }
   ],
   "source": [
    "ax = plt.figure(figsize=(8,8)).gca()\n",
    "problem.plot(y,assignments)\n",
    "ax.set_title('Greedy solution, objective = %.4f' % problem.objective(y, assignments))\n",
    "print(y)\n",
    "print(assignments)"
   ]
  },
  {
   "cell_type": "code",
   "execution_count": 138,
   "metadata": {},
   "outputs": [
    {
     "name": "stdout",
     "output_type": "stream",
     "text": [
      "1\n"
     ]
    }
   ],
   "source": [
    "cls=np.array([Client(np.array([0,0]),0),Client(np.array([1,0]),1)],dtype='object')\n",
    "cls1=np.array([Client(cl.location,cl.assignment) for cl in cls])\n",
    "cls1[1].assignment=3\n",
    "print(cls[1].assignment)"
   ]
  },
  {
   "cell_type": "markdown",
   "metadata": {},
   "source": [
    "## Local optimization algorithm\n",
    "\n",
    "*(Describe your local optimization algorithm here. Make sure that its moves cover the whole solution domain)*"
   ]
  },
  {
   "cell_type": "code",
   "execution_count": 1,
   "metadata": {},
   "outputs": [
    {
     "ename": "NameError",
     "evalue": "name 'Problem' is not defined",
     "output_type": "error",
     "traceback": [
      "\u001b[1;31m---------------------------------------------------------------------------\u001b[0m",
      "\u001b[1;31mNameError\u001b[0m                                 Traceback (most recent call last)",
      "\u001b[1;32m<ipython-input-1-d432f6d936bb>\u001b[0m in \u001b[0;36m<module>\u001b[1;34m()\u001b[0m\n\u001b[0;32m      2\u001b[0m     \u001b[1;32mpass\u001b[0m \u001b[1;31m# your code here\u001b[0m\u001b[1;33m\u001b[0m\u001b[0m\n\u001b[0;32m      3\u001b[0m \u001b[1;33m\u001b[0m\u001b[0m\n\u001b[1;32m----> 4\u001b[1;33m \u001b[0mProblem\u001b[0m\u001b[1;33m.\u001b[0m\u001b[0msolve_local_optimization\u001b[0m \u001b[1;33m=\u001b[0m \u001b[0msolve_local_optimization\u001b[0m\u001b[1;33m\u001b[0m\u001b[0m\n\u001b[0m",
      "\u001b[1;31mNameError\u001b[0m: name 'Problem' is not defined"
     ]
    }
   ],
   "source": [
    "def solve_local_optimization(self):\n",
    "    pass # your code here\n",
    "\n",
    "Problem.solve_local_optimization = solve_local_optimization"
   ]
  },
  {
   "cell_type": "markdown",
   "metadata": {},
   "source": [
    "*(Demonstrate your local optimization algorithm here)*"
   ]
  },
  {
   "cell_type": "markdown",
   "metadata": {},
   "source": [
    "## Simulated annealing"
   ]
  },
  {
   "cell_type": "code",
   "execution_count": null,
   "metadata": {},
   "outputs": [],
   "source": [
    "def solve_simulated_annealing(self, max_iter=10000, T_0=100, schedule='exp'):\n",
    "    pass # your code here. You can add function parameters as needed.\n",
    "    # You are expected to implement several temperature schedules\n",
    "\n",
    "Problem.solve_simulated_annealing = solve_simulated_annealing"
   ]
  },
  {
   "cell_type": "markdown",
   "metadata": {},
   "source": [
    "*(Demonstrate your simulated annealing algorithm here. Try different sets of parameters and determine the best one)*"
   ]
  },
  {
   "cell_type": "markdown",
   "metadata": {},
   "source": [
    "## Results comparison"
   ]
  },
  {
   "cell_type": "markdown",
   "metadata": {},
   "source": [
    "*(Compare 4 methods (with their best parameters) on different problems, capacities etc. Don't forget corner cases like $C \\gg F$, $C = F$, $\\dots$)*"
   ]
  },
  {
   "cell_type": "code",
   "execution_count": null,
   "metadata": {},
   "outputs": [],
   "source": [
    "# Suggested code for comparison (modify as needed)\n",
    "\n",
    "def compare_results(problem):\n",
    "    fig = plt.figure()\n",
    "\n",
    "    ax_greedy = fig.add_subplot(221)\n",
    "    ax_local  = fig.add_subplot(222)\n",
    "    ax_anneal = fig.add_subplot(223)\n",
    "    ax_gurobi = fig.add_subplot(224)\n",
    "\n",
    "    greedy = problem.solve_greedy()\n",
    "    local  = problem.solve_local_opt()\n",
    "    gurobi = problem.solve_gurobi()\n",
    "    anneal = problem.solve_sim_annealing()\n",
    "\n",
    "    ax_greedy.set_title('Greedy:    %.3f' % problem.objective(*greedy))\n",
    "    ax_local .set_title('Local:     %.3f' % problem.objective(*local))\n",
    "    ax_anneal.set_title('Annealing: %.3f' % problem.objective(*anneal))\n",
    "    ax_gurobi.set_title('Gurobi:    %.3f' % problem.objective(*gurobi))\n",
    "\n",
    "    problem.plot(greedy[0], greedy[1], ax_greedy)\n",
    "    problem.plot(local [0], local [1], ax_local )\n",
    "    problem.plot(anneal[0], anneal[1], ax_anneal)\n",
    "    problem.plot(gurobi[0], gurobi[1], ax_gurobi)\n",
    "\n",
    "    for ax in ax_greedy, ax_local, ax_anneal, ax_gurobi:\n",
    "        ax.axes.get_xaxis().set_ticks([])\n",
    "        ax.axes.get_yaxis().set_ticks([])"
   ]
  },
  {
   "cell_type": "markdown",
   "metadata": {
    "collapsed": true
   },
   "source": [
    "# Problem 2\n",
    "**Optimal vehicle speed scheduling (6 points)** -- (based on an additional exercise A3.20 to Boyd and Vandenberghe). \n",
    "\n",
    "A vehicle (say, an airplane) travels along a fixed path of $n$ segments, between $n + 1$ waypoints labeled $0, \\dots , n$. Segment $i$ starts at waypoint $i-1$ and terminates at waypoint $i$. The vehicle starts at time $t = 0$ at waypoint $0$. It travels over each segment at a constant (nonnegative) speed; $s_i$ is the speed on segment $i$. We have lower and upper limits on the speeds: $s_{\\min} \\leq s \\leq s_{\\max}$. The vehicle does not stop at the waypoints; it simply proceeds to the next segment. The travel distance of segment $i$ is $d_i$ (which is positive), so the travel time over segment $i$ is $\\frac{d_i}{s_i}$. We let $\\tau_i$, $i = 1, \\dots, n$ denote the time at which the vehicle arrives at waypoint $i$. The vehicle is required to arrive at waypoint $i$, $i = 1, \\dots, n$, between times $\\tau_{\\min,i}$ and $\\tau_{\\max,i}$, which are given. The vehicle consumes fuel over segment $i$ at a rate that depends on its speed $\\Phi\\left(s_i\\right) = a s_i^2+b s_i+c$ kg/s.\n",
    "\n",
    "You are given the data $d$ (segment travel distances), $s_{\\min}$ and $s_{\\max}$ (speed bounds), $\\tau_{\\min}$ and $\\tau_{\\max}$ (waypoint arrival time bounds), and parameters $a$, $b$, and $c$ (all parameters are in *veh_speed_sched_data.m*). Use the dynamic programming approach to find the schedule that allows spending the minimal amount of fuel. Use matplotlib command *step* to plot speed vs time for the optimal schedule. You will need to discretize some continuous variables, make sure you do it densely enough.\n",
    "\n",
    "**NB**: later in the course we will get back to this problem and attack it with a different method.\n"
   ]
  },
  {
   "cell_type": "code",
   "execution_count": null,
   "metadata": {},
   "outputs": [],
   "source": [
    "import scipy.io as sio\n",
    "\n",
    "mat_contents = sio.loadmat('veh_sched_data.mat')\n",
    "\n",
    "a = mat_contents['a'][0,0]\n",
    "b = mat_contents['b'][0,0]\n",
    "c = mat_contents['c'][0,0]\n",
    "d = mat_contents['d'].squeeze()\n",
    "n = mat_contents['n'][0,0]\n",
    "smin = mat_contents['smin'].squeeze()\n",
    "smax = mat_contents['smax'].squeeze()\n",
    "tau_min = mat_contents['tau_min'].squeeze()\n",
    "tau_max = mat_contents['tau_max'].squeeze()"
   ]
  },
  {
   "cell_type": "code",
   "execution_count": null,
   "metadata": {},
   "outputs": [],
   "source": []
  }
 ],
 "metadata": {
  "anaconda-cloud": {},
  "kernelspec": {
   "display_name": "Python [Root]",
   "language": "python",
   "name": "Python [Root]"
  },
  "language_info": {
   "codemirror_mode": {
    "name": "ipython",
    "version": 3
   },
   "file_extension": ".py",
   "mimetype": "text/x-python",
   "name": "python",
   "nbconvert_exporter": "python",
   "pygments_lexer": "ipython3",
   "version": "3.5.2"
  }
 },
 "nbformat": 4,
 "nbformat_minor": 1
}
